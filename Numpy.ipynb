{
  "nbformat": 4,
  "nbformat_minor": 0,
  "metadata": {
    "colab": {
      "provenance": [],
      "include_colab_link": true
    },
    "kernelspec": {
      "name": "python3",
      "display_name": "Python 3"
    }
  },
  "cells": [
    {
      "cell_type": "markdown",
      "metadata": {
        "id": "view-in-github",
        "colab_type": "text"
      },
      "source": [
        "<a href=\"https://colab.research.google.com/github/annefrancine/ML_2022-2023/blob/main/Numpy.ipynb\" target=\"_parent\"><img src=\"https://colab.research.google.com/assets/colab-badge.svg\" alt=\"Open In Colab\"/></a>"
      ]
    },
    {
      "cell_type": "markdown",
      "metadata": {
        "id": "5QVsHni6HIgN"
      },
      "source": [
        "NumPy  est une bibliothèque numérique apportant un support efficace pour la création et la manipulation de larges tableaux multidimensionnels, et de routines mathématiques de haut niveau (algèbre linéaire, statistiques, fonctions mathématiques complexes etc.…).\n",
        "\n",
        "https://numpy.org/doc/"
      ]
    },
    {
      "cell_type": "code",
      "metadata": {
        "id": "h7I78Q_tNdjh"
      },
      "source": [
        "# La première étape pour l'utiliser est d'importer le module Numpy. Très souvent,\n",
        "# on l'importe en lui donnant l'abréviation np avec l\"instruction suivante :\n",
        "\n",
        "import numpy as np"
      ],
      "execution_count": null,
      "outputs": []
    },
    {
      "cell_type": "code",
      "metadata": {
        "id": "Lse0jFlcjcle",
        "colab": {
          "base_uri": "https://localhost:8080/"
        },
        "outputId": "7547ea56-3e6a-447c-f121-7e0921e6f536"
      },
      "source": [
        "print(np.__version__)"
      ],
      "execution_count": null,
      "outputs": [
        {
          "output_type": "stream",
          "name": "stdout",
          "text": [
            "1.23.5\n"
          ]
        }
      ]
    },
    {
      "cell_type": "markdown",
      "metadata": {
        "id": "KbTU0veIHXs7"
      },
      "source": [
        "De nombreuses fonctions mathématiques sont accessibles grâce à Numpy, comme les fonctions trigonométriques (np.sin(), np.arctan()...), les fonctions de mathématiques basiques, la fonction racine carrée (np.sqrt()), les fonctions exponentielles et logarithmes (np.exp(), np.log()...). Toutes les fonctions sont listées ici (https://docs.scipy.org/doc/numpy-1.13.0/reference/routines.math.html)"
      ]
    },
    {
      "cell_type": "code",
      "metadata": {
        "id": "s1Y7grPSIl5P",
        "colab": {
          "base_uri": "https://localhost:8080/"
        },
        "outputId": "50d2824e-6efc-478e-bf07-5088fd3463fb"
      },
      "source": [
        "# NumPy définit par défaut la valeur de pi\n",
        "np.pi"
      ],
      "execution_count": null,
      "outputs": [
        {
          "output_type": "execute_result",
          "data": {
            "text/plain": [
              "3.141592653589793"
            ]
          },
          "metadata": {},
          "execution_count": 3
        }
      ]
    },
    {
      "cell_type": "markdown",
      "metadata": {
        "id": "0pWxUdXpMqno"
      },
      "source": [
        "## 1)\tCréation d’un Numpy array"
      ]
    },
    {
      "cell_type": "markdown",
      "metadata": {
        "id": "B1BSe1DIIzdU"
      },
      "source": [
        "1.1) Array\n",
        "\n",
        "L'efficacité du module Numpy réside essentiellement dans l'utilisation d'un type optimisé : le type ndarray. Les objets de type ndarray se manipulent comme des listes, à la différence qu'ils ne contiennent que des éléments de même type.\n",
        "\n",
        "Il convient de noter que toutes les opérations effectuées à partir de arrays peuvent être faites sur des objets de type list ordinaire, mais cette alternative serait plus longue à écrire, plus lente, et prendrait beaucoup de mémoire supplémentaire.\n",
        "On peut construire un ndarray à partir de n’importe quel autre type d'objets itérable, comme une liste ou un tuple, grâce à la fonction np.array() .\n",
        "\n",
        "La méthode array transforme les listes de listes en tableaux bidimensionnels, les listes de listes de listes en tableaux tridimensionnels, etc. Le type du tableau obtenu est déduit du type des éléments de la liste/du tuple.\n"
      ]
    },
    {
      "cell_type": "code",
      "metadata": {
        "id": "jlHNi8PdNpZX",
        "colab": {
          "base_uri": "https://localhost:8080/"
        },
        "outputId": "f558dc16-b306-4b51-ac53-2ac6e4e3cf6b"
      },
      "source": [
        "a = np.array([4,7,9])# tableau 1D\n",
        "a"
      ],
      "execution_count": null,
      "outputs": [
        {
          "output_type": "execute_result",
          "data": {
            "text/plain": [
              "array([4, 7, 9])"
            ]
          },
          "metadata": {},
          "execution_count": 4
        }
      ]
    },
    {
      "cell_type": "code",
      "metadata": {
        "id": "_TMKokquI4QV",
        "colab": {
          "base_uri": "https://localhost:8080/"
        },
        "outputId": "012cd3ce-f59d-49eb-dfef-2abade3f505f"
      },
      "source": [
        "b = np.array([[1, 2, 3], [4, 5, 6]])# tableau 2D\n",
        "b"
      ],
      "execution_count": null,
      "outputs": [
        {
          "output_type": "execute_result",
          "data": {
            "text/plain": [
              "array([[1, 2, 3],\n",
              "       [4, 5, 6]])"
            ]
          },
          "metadata": {},
          "execution_count": 5
        }
      ]
    },
    {
      "cell_type": "code",
      "metadata": {
        "id": "NudXeqwGI5U7",
        "colab": {
          "base_uri": "https://localhost:8080/"
        },
        "outputId": "61e92261-4795-4029-a0af-f8d3933a690e"
      },
      "source": [
        "type(a)"
      ],
      "execution_count": null,
      "outputs": [
        {
          "output_type": "execute_result",
          "data": {
            "text/plain": [
              "numpy.ndarray"
            ]
          },
          "metadata": {},
          "execution_count": 6
        }
      ]
    },
    {
      "cell_type": "markdown",
      "metadata": {
        "id": "uyz9twkRN12Y"
      },
      "source": [
        "La fonction numpy.size() renvoie le nombre d’éléments du tableau."
      ]
    },
    {
      "cell_type": "code",
      "metadata": {
        "id": "jaZJxgtyN3Gv",
        "colab": {
          "base_uri": "https://localhost:8080/"
        },
        "outputId": "1e7c2949-24b2-48e1-b062-ebdf6f1c2a04"
      },
      "source": [
        "np.size(a), np.size(b)"
      ],
      "execution_count": null,
      "outputs": [
        {
          "output_type": "execute_result",
          "data": {
            "text/plain": [
              "(3, 6)"
            ]
          },
          "metadata": {},
          "execution_count": 7
        }
      ]
    },
    {
      "cell_type": "markdown",
      "metadata": {
        "id": "awuKVnO5N_3x"
      },
      "source": [
        "La fonction numpy.shape() (forme, en anglais) renvoie la taille du tableau."
      ]
    },
    {
      "cell_type": "code",
      "metadata": {
        "id": "Mc9ZNhMHODoJ",
        "colab": {
          "base_uri": "https://localhost:8080/"
        },
        "outputId": "3a2d0c33-7219-40cb-8296-a017286ac671"
      },
      "source": [
        "c = np.array([[1, 2, 3],[4, 5, 6]])\n",
        "c"
      ],
      "execution_count": null,
      "outputs": [
        {
          "output_type": "execute_result",
          "data": {
            "text/plain": [
              "array([[1, 2, 3],\n",
              "       [4, 5, 6]])"
            ]
          },
          "metadata": {},
          "execution_count": 8
        }
      ]
    },
    {
      "cell_type": "code",
      "metadata": {
        "id": "gjDzBvLsRRK1",
        "colab": {
          "base_uri": "https://localhost:8080/"
        },
        "outputId": "7b12bb8d-bdcf-4a76-dee6-10233ff754f8"
      },
      "source": [
        "np.shape(c)"
      ],
      "execution_count": null,
      "outputs": [
        {
          "output_type": "execute_result",
          "data": {
            "text/plain": [
              "(2, 3)"
            ]
          },
          "metadata": {},
          "execution_count": 9
        }
      ]
    },
    {
      "cell_type": "markdown",
      "metadata": {
        "id": "1mdMSLBPXPeg"
      },
      "source": [
        "Il est possible de changer la taille d’un tableau en utilisant l’attribut shape de ce tableau."
      ]
    },
    {
      "cell_type": "code",
      "metadata": {
        "id": "omAmKZN1XTOs",
        "colab": {
          "base_uri": "https://localhost:8080/"
        },
        "outputId": "8ad2af59-42e6-41a7-fbfd-679ed8eabc30"
      },
      "source": [
        "u = np.arange(1, 16)\n",
        "u"
      ],
      "execution_count": null,
      "outputs": [
        {
          "output_type": "execute_result",
          "data": {
            "text/plain": [
              "array([ 1,  2,  3,  4,  5,  6,  7,  8,  9, 10, 11, 12, 13, 14, 15])"
            ]
          },
          "metadata": {},
          "execution_count": 10
        }
      ]
    },
    {
      "cell_type": "code",
      "metadata": {
        "id": "T2WG9gEnXXuf",
        "colab": {
          "base_uri": "https://localhost:8080/"
        },
        "outputId": "2de0b027-e355-48cf-8e94-fe2038645e2d"
      },
      "source": [
        "u.shape = (3, 5)\n",
        "u"
      ],
      "execution_count": null,
      "outputs": [
        {
          "output_type": "execute_result",
          "data": {
            "text/plain": [
              "array([[ 1,  2,  3,  4,  5],\n",
              "       [ 6,  7,  8,  9, 10],\n",
              "       [11, 12, 13, 14, 15]])"
            ]
          },
          "metadata": {},
          "execution_count": 11
        }
      ]
    },
    {
      "cell_type": "code",
      "metadata": {
        "id": "DaebTlxmXvEX",
        "colab": {
          "base_uri": "https://localhost:8080/"
        },
        "outputId": "4e402c71-60b7-4463-d9f8-836b007b16fa"
      },
      "source": [
        "np.shape(u)"
      ],
      "execution_count": null,
      "outputs": [
        {
          "output_type": "execute_result",
          "data": {
            "text/plain": [
              "(3, 5)"
            ]
          },
          "metadata": {},
          "execution_count": 12
        }
      ]
    },
    {
      "cell_type": "markdown",
      "metadata": {
        "id": "RSwky4VeRYco"
      },
      "source": [
        "Il est possible de réaliser un produit terme à terme grâce à l’opérateur *. Il faut dans ce cas que les deux tableaux aient la même taille."
      ]
    },
    {
      "cell_type": "code",
      "metadata": {
        "id": "hwaaWF0-RZ22",
        "colab": {
          "base_uri": "https://localhost:8080/"
        },
        "outputId": "eaa2d0dc-c481-4ed4-9e8f-a0b94cec75a9"
      },
      "source": [
        "e = np.array([[1, 2, 3], [4, 5, 6]])\n",
        "f = np.array([[2, 1, 3],[3, 2, 1]])\n",
        "\n",
        "e*f"
      ],
      "execution_count": null,
      "outputs": [
        {
          "output_type": "execute_result",
          "data": {
            "text/plain": [
              "array([[ 2,  2,  9],\n",
              "       [12, 10,  6]])"
            ]
          },
          "metadata": {},
          "execution_count": 13
        }
      ]
    },
    {
      "cell_type": "markdown",
      "metadata": {
        "id": "GVh56abSRsEv"
      },
      "source": [
        "Un tableau peut jouer le rôle d’une matrice si on lui applique une opération de calcul matriciel. Par exemple, la fonction numpy.dot() permet de réaliser le produit matriciel."
      ]
    },
    {
      "cell_type": "code",
      "metadata": {
        "id": "ZJkt7bJ1R-FQ"
      },
      "source": [
        "g = np.array([[4],\n",
        "                  [2],\n",
        "                  [1]])"
      ],
      "execution_count": null,
      "outputs": []
    },
    {
      "cell_type": "code",
      "metadata": {
        "id": "ddqxqsLQRuAJ",
        "colab": {
          "base_uri": "https://localhost:8080/"
        },
        "outputId": "c809a69b-701d-41a1-e1c4-01dd302633c2"
      },
      "source": [
        "np.dot(e,g)\n",
        "# Le produit d’une matrice de taille n x m par une matrice m x p donne une matrice n x p."
      ],
      "execution_count": null,
      "outputs": [
        {
          "output_type": "execute_result",
          "data": {
            "text/plain": [
              "array([[11],\n",
              "       [32]])"
            ]
          },
          "metadata": {},
          "execution_count": 15
        }
      ]
    },
    {
      "cell_type": "code",
      "metadata": {
        "id": "rmyvvX3_SckH",
        "colab": {
          "base_uri": "https://localhost:8080/"
        },
        "outputId": "3e331ce8-a45e-4986-c2b5-3e64749c7e67"
      },
      "source": [
        "#matrice transposé\n",
        "e.T"
      ],
      "execution_count": null,
      "outputs": [
        {
          "output_type": "execute_result",
          "data": {
            "text/plain": [
              "array([[1, 4],\n",
              "       [2, 5],\n",
              "       [3, 6]])"
            ]
          },
          "metadata": {},
          "execution_count": 16
        }
      ]
    },
    {
      "cell_type": "markdown",
      "metadata": {
        "id": "1xBSjjbDJgZM"
      },
      "source": [
        "1.2) Fonction arange()\n",
        "\n",
        "La fonction arange() de Numpy permet de générer une séquence de nombres séparés par un interval fixe, le tout stocké dans un tableau. La syntaxe est la suivante :\n",
        "\n",
        "```\n",
        "np.arange( start, stop, step, dtype )\n",
        "```\n"
      ]
    },
    {
      "cell_type": "code",
      "metadata": {
        "id": "4DMtnI-_Jl-J",
        "colab": {
          "base_uri": "https://localhost:8080/"
        },
        "outputId": "7360940f-c14a-4c45-984f-6d7d7193fbce"
      },
      "source": [
        "m = np.arange(3, 15, 2)\n",
        "m"
      ],
      "execution_count": null,
      "outputs": [
        {
          "output_type": "execute_result",
          "data": {
            "text/plain": [
              "array([ 3,  5,  7,  9, 11, 13])"
            ]
          },
          "metadata": {},
          "execution_count": 17
        }
      ]
    },
    {
      "cell_type": "markdown",
      "metadata": {
        "id": "YYMbPynfJuf_"
      },
      "source": [
        "Noter la différence entre numpy.arange() et range() :\n",
        "\n",
        "* numpy.arange() retourne un objet de type numpy.ndarray.\n",
        "\n",
        "* range() retourne un objet de type range."
      ]
    },
    {
      "cell_type": "code",
      "metadata": {
        "id": "Kd1nFCfUJ3EG",
        "colab": {
          "base_uri": "https://localhost:8080/"
        },
        "outputId": "70a153f7-6a00-442d-9d64-c4b13e4b8bea"
      },
      "source": [
        "# numpy.arange() accepte des arguments qui ne sont pas entiers\n",
        "np.arange(0, 11*np.pi, np.pi)"
      ],
      "execution_count": null,
      "outputs": [
        {
          "output_type": "execute_result",
          "data": {
            "text/plain": [
              "array([ 0.        ,  3.14159265,  6.28318531,  9.42477796, 12.56637061,\n",
              "       15.70796327, 18.84955592, 21.99114858, 25.13274123, 28.27433388,\n",
              "       31.41592654])"
            ]
          },
          "metadata": {},
          "execution_count": 18
        }
      ]
    },
    {
      "cell_type": "markdown",
      "metadata": {
        "id": "mQpw36UlEvfW"
      },
      "source": [
        "Pour connaître la dimension d’un tableau, on peut afficher la valeur de l’attribut ndim :"
      ]
    },
    {
      "cell_type": "code",
      "metadata": {
        "id": "r0spuL0HE1Ni",
        "colab": {
          "base_uri": "https://localhost:8080/"
        },
        "outputId": "8cbac731-86d8-43b5-f9ef-404f75374f66"
      },
      "source": [
        "print(\"ndim tableau : \", m.ndim)"
      ],
      "execution_count": null,
      "outputs": [
        {
          "output_type": "stream",
          "name": "stdout",
          "text": [
            "ndim tableau :  1\n"
          ]
        }
      ]
    },
    {
      "cell_type": "markdown",
      "metadata": {
        "id": "pOVaCNntRF5i"
      },
      "source": [
        "1.3) Linspace"
      ]
    },
    {
      "cell_type": "markdown",
      "metadata": {
        "id": "SUSB5SOKKi1D"
      },
      "source": [
        "Lorsque la fonction arange() est utilisée avec des arguments réels (floats), il est généralement difficile de prédire le nombre d'éléments obtenus. Souvent, dans ce cas, il est préferable d'utiliser la fonction linspace(), qui reçoit en argument le nombre n d'éléments souhaité plutôt que le pas, et retourne un array de n nombre de valeurs uniformément réparties entre deux bornes (incluses).\n"
      ]
    },
    {
      "cell_type": "code",
      "metadata": {
        "id": "zw8x_r8XKoLP",
        "colab": {
          "base_uri": "https://localhost:8080/"
        },
        "outputId": "e495a1f5-f1bf-46d6-9453-9f9c457cf09c"
      },
      "source": [
        "np.linspace( 0,2,9) # 9 valeurs entre 0 et 2"
      ],
      "execution_count": null,
      "outputs": [
        {
          "output_type": "execute_result",
          "data": {
            "text/plain": [
              "array([0.  , 0.25, 0.5 , 0.75, 1.  , 1.25, 1.5 , 1.75, 2.  ])"
            ]
          },
          "metadata": {},
          "execution_count": 20
        }
      ]
    },
    {
      "cell_type": "code",
      "metadata": {
        "id": "rscbI_gLK5mc",
        "colab": {
          "base_uri": "https://localhost:8080/"
        },
        "outputId": "b2c8db14-30f9-408a-94bf-b7560dd80045"
      },
      "source": [
        "np.linspace(3, 9, 10)"
      ],
      "execution_count": null,
      "outputs": [
        {
          "output_type": "execute_result",
          "data": {
            "text/plain": [
              "array([3.        , 3.66666667, 4.33333333, 5.        , 5.66666667,\n",
              "       6.33333333, 7.        , 7.66666667, 8.33333333, 9.        ])"
            ]
          },
          "metadata": {},
          "execution_count": 21
        }
      ]
    },
    {
      "cell_type": "markdown",
      "metadata": {
        "id": "PikSZKhtK_lU"
      },
      "source": [
        "NumPy dispose d’un grand nombre de fonctions mathématiques qui peuvent être appliquées directement à un tableau. Dans ce cas, la fonction est appliquée à chacun des éléments du tableau."
      ]
    },
    {
      "cell_type": "code",
      "metadata": {
        "id": "ri2UesatLB32",
        "colab": {
          "base_uri": "https://localhost:8080/"
        },
        "outputId": "0cf1aebd-17a1-4ff0-e60c-c70d922aeb4a"
      },
      "source": [
        "x = np.linspace(-np.pi/2, np.pi/2, 3)\n",
        "x"
      ],
      "execution_count": null,
      "outputs": [
        {
          "output_type": "execute_result",
          "data": {
            "text/plain": [
              "array([-1.57079633,  0.        ,  1.57079633])"
            ]
          },
          "metadata": {},
          "execution_count": 22
        }
      ]
    },
    {
      "cell_type": "code",
      "metadata": {
        "id": "WYQDxtJfLGaB",
        "colab": {
          "base_uri": "https://localhost:8080/"
        },
        "outputId": "c1ed43a8-d465-40f5-f39c-22d4af12a0b4"
      },
      "source": [
        "y = np.sin(x)\n",
        "y"
      ],
      "execution_count": null,
      "outputs": [
        {
          "output_type": "execute_result",
          "data": {
            "text/plain": [
              "array([-1.,  0.,  1.])"
            ]
          },
          "metadata": {},
          "execution_count": 23
        }
      ]
    },
    {
      "cell_type": "markdown",
      "metadata": {
        "id": "Sidn20K0LPfo"
      },
      "source": [
        "De nombreuses autres fonctions existent dans Numpy pour générer des arrays: Pour n'en citer que quelques-unes:"
      ]
    },
    {
      "cell_type": "code",
      "metadata": {
        "id": "RsiKp6JVL2_O",
        "colab": {
          "base_uri": "https://localhost:8080/"
        },
        "outputId": "1b9a3aa6-0eb5-4c51-b1ca-862480caf1de"
      },
      "source": [
        "# np.ones((n,p)) crée un array de dimension n×pn×p rempli de 1\n",
        "np.ones(5)"
      ],
      "execution_count": null,
      "outputs": [
        {
          "output_type": "execute_result",
          "data": {
            "text/plain": [
              "array([1., 1., 1., 1., 1.])"
            ]
          },
          "metadata": {},
          "execution_count": 24
        }
      ]
    },
    {
      "cell_type": "code",
      "metadata": {
        "id": "kirZlPGTMJmp",
        "colab": {
          "base_uri": "https://localhost:8080/"
        },
        "outputId": "c495c398-98d1-4211-da85-522d1be8d0fe"
      },
      "source": [
        "# np.zeros((n,p,l)) crée un array de dimension n×p×ln×p×l rempli de 0.\n",
        "np.zeros(5)"
      ],
      "execution_count": null,
      "outputs": [
        {
          "output_type": "execute_result",
          "data": {
            "text/plain": [
              "array([0., 0., 0., 0., 0.])"
            ]
          },
          "metadata": {},
          "execution_count": 25
        }
      ]
    },
    {
      "cell_type": "markdown",
      "source": [
        "La fonction numpy.random.random() permet d’obtenir des nombres compris entre 0 et 1 par tirage aléatoire avec une loi uniforme. Il faut noter que ces nombres aléatoires sont générés par un algorithme et ils ne sont donc pas vraiment « aléatoires » mais pseudo-aléatoires. Ceci peut poser problème quand on a besoin de produire un grand nombre de valeurs ou pour de la cryptographie car les tirages ne sont pas vraiment indépendants, il faut alors étudier plus en détail les algorithmes utilisés.\n",
        "\n",
        "La fonction numpy.random.random() peut être utilisée avec des arguments pour obtenir des tableaux. Les arguments précisent alors la forme (shape) du tableau souhaité."
      ],
      "metadata": {
        "id": "s5bSmFX_aknT"
      }
    },
    {
      "cell_type": "code",
      "metadata": {
        "id": "AQJt8901MWgd",
        "colab": {
          "base_uri": "https://localhost:8080/"
        },
        "outputId": "a21a84a3-5896-44e1-abe7-8ab65578fe7e"
      },
      "source": [
        "# np.random.random((n,p)) crée un array avec des valeurs aléatoires.\n",
        "np.random.random_sample((3, 5))"
      ],
      "execution_count": null,
      "outputs": [
        {
          "output_type": "execute_result",
          "data": {
            "text/plain": [
              "array([[0.48271268, 0.40750038, 0.11662452, 0.74944785, 0.03648863],\n",
              "       [0.57122779, 0.54726975, 0.62983983, 0.39847678, 0.82035851],\n",
              "       [0.40122537, 0.42320586, 0.3850335 , 0.62907161, 0.76193069]])"
            ]
          },
          "metadata": {},
          "execution_count": 26
        }
      ]
    },
    {
      "cell_type": "markdown",
      "source": [
        "\n",
        "eye(n) renvoie tableau 2D carré de taille n x n, avec des uns sur la diagonale et des zéros partout ailleurs."
      ],
      "metadata": {
        "id": "80Jh7PAEa6US"
      }
    },
    {
      "cell_type": "code",
      "metadata": {
        "id": "4Zk_wrkPMWyn",
        "colab": {
          "base_uri": "https://localhost:8080/"
        },
        "outputId": "d468fdb5-adfc-4e79-f8ea-ac44287d851c"
      },
      "source": [
        "# np.eye(n) crée un array de la forme d'une matrice identité de dimension n×nn×n, c'est à dire un tableau où toutes\n",
        "# les valeurs sont nulles sauf sur la diagonale, où elles valent 1.\n",
        "\n",
        "np.eye(3)"
      ],
      "execution_count": null,
      "outputs": [
        {
          "output_type": "execute_result",
          "data": {
            "text/plain": [
              "array([[1., 0., 0.],\n",
              "       [0., 1., 0.],\n",
              "       [0., 0., 1.]])"
            ]
          },
          "metadata": {},
          "execution_count": 27
        }
      ]
    },
    {
      "cell_type": "code",
      "metadata": {
        "id": "43eXVfn-MWPs"
      },
      "source": [
        "# np.diag(a, i) crée un array à partir d'une séquence a (liste, tuple, array unidimensionnel...) en place a sur la i-ème diagonale de la matrice\n",
        "# (0 étant la diagonale principale, -1 celle en dessous, 1 celle au-dessus etc..)"
      ],
      "execution_count": null,
      "outputs": []
    },
    {
      "cell_type": "code",
      "metadata": {
        "id": "kX8eb6htTi6d",
        "colab": {
          "base_uri": "https://localhost:8080/"
        },
        "outputId": "b7fcfa2c-3214-45e8-bd6a-e3d0bc59cf81"
      },
      "source": [
        "x = np.arange(9).reshape((3,3))\n",
        "x"
      ],
      "execution_count": null,
      "outputs": [
        {
          "output_type": "execute_result",
          "data": {
            "text/plain": [
              "array([[0, 1, 2],\n",
              "       [3, 4, 5],\n",
              "       [6, 7, 8]])"
            ]
          },
          "metadata": {},
          "execution_count": 29
        }
      ]
    },
    {
      "cell_type": "code",
      "metadata": {
        "id": "DiE_p1nBTlUV",
        "colab": {
          "base_uri": "https://localhost:8080/"
        },
        "outputId": "e1d3a12d-e9dd-45db-aaea-c65583d8136e"
      },
      "source": [
        "np.diag(x)"
      ],
      "execution_count": null,
      "outputs": [
        {
          "output_type": "execute_result",
          "data": {
            "text/plain": [
              "array([0, 4, 8])"
            ]
          },
          "metadata": {},
          "execution_count": 30
        }
      ]
    },
    {
      "cell_type": "markdown",
      "metadata": {
        "id": "kDaY5VGOTX8Q"
      },
      "source": [
        "## 2) Tableaux et slicing\n",
        "\n",
        "Lors de la manipulation des tableaux, on a souvent besoin de récupérer une partie d’un tableau. Pour cela, Python permet d’extraire des tranches d’un tableau grâce une technique appelée slicing (tranchage, en français). Elle consiste à indiquer entre crochets des indices pour définir le début et la fin de la tranche et à les séparer par deux-points :"
      ]
    },
    {
      "cell_type": "code",
      "metadata": {
        "id": "EZCtrEqmTzGI",
        "colab": {
          "base_uri": "https://localhost:8080/"
        },
        "outputId": "4e5b5744-0731-4859-d2c4-0ccf4122fc36"
      },
      "source": [
        "a = np.array([12, 25, 34, 56, 87])\n",
        "a[1:3]"
      ],
      "execution_count": null,
      "outputs": [
        {
          "output_type": "execute_result",
          "data": {
            "text/plain": [
              "array([25, 34])"
            ]
          },
          "metadata": {},
          "execution_count": 31
        }
      ]
    },
    {
      "cell_type": "markdown",
      "metadata": {
        "id": "ZPFrKeQvT7KC"
      },
      "source": [
        "Dans la tranche [n:m], l’élément d’indice n est inclus, mais pas celui d’indice m. Un moyen pour mémoriser ce mécanisme consiste à considérer que les limites de la tranche sont définies par les numéros des positions situées entre les éléments, comme dans le schéma ci-dessous :\n",
        "\n",
        "![array_slicing.png](data:image/png;base64,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)"
      ]
    },
    {
      "cell_type": "code",
      "metadata": {
        "id": "Gcd-AH6EUF5B",
        "colab": {
          "base_uri": "https://localhost:8080/"
        },
        "outputId": "31a56921-7913-4073-83bc-18b4da210bc2"
      },
      "source": [
        "a= np.array([[1 ,2,3],[4,5,6]])\n",
        "np.shape(a)# permet d’avoir la dimension de l’array, ici (2,3)"
      ],
      "execution_count": null,
      "outputs": [
        {
          "output_type": "execute_result",
          "data": {
            "text/plain": [
              "(2, 3)"
            ]
          },
          "metadata": {},
          "execution_count": 32
        }
      ]
    },
    {
      "cell_type": "markdown",
      "metadata": {
        "id": "Vy5ypYdjUeK0"
      },
      "source": [
        "* a[0,1] : donne l'élément sur la ligne 0 et la colonne 1, donc ici 2.\n",
        "* a[0][1] : marche aussi, mais est moins efficace car crée d'abord la sous array a[0] !\n",
        "*\ta[-1,-1] : dernier élément, donc ici 6.\n",
        "*\ta[0] : première ligne, donc ici array([1, 2, 3]).\n",
        "*\ta[:,0] : première colonne, donc ici array([1, 4]).   \n",
        "*\tpour changer toutes les valeurs d'une array (qui peut être 2d) : a[:] = 2\n",
        "* compter le nombre d'éléments d'une array satisfaisant une condition : (a > 2).sum()\n"
      ]
    },
    {
      "cell_type": "markdown",
      "metadata": {
        "id": "VU7zJXXpFVbH"
      },
      "source": [
        "Pour extraire ou non des éléments d’un tableu, on peut utiliser des tableaux de booléens en tant que masques. L’idée est de fournir un tableau de booléens (un masque) de même dimension que celui pour lequel on désire extraire des éléments sous certaines conditions. Lorsque la valeur du booléen dans le masque vaut True, l’élément correspondant du tableau est retourné ; sinon, il ne l’est pas."
      ]
    },
    {
      "cell_type": "code",
      "metadata": {
        "id": "-YFNPg8nFZKC",
        "colab": {
          "base_uri": "https://localhost:8080/"
        },
        "outputId": "9cbd4b71-d039-4362-f460-46b15a638eb0"
      },
      "source": [
        "tableau = np.array([0, 3, 2, 5, 1, 4])\n",
        "res = tableau[[True, False, True, False, True, True]]\n",
        "print(res)"
      ],
      "execution_count": null,
      "outputs": [
        {
          "output_type": "stream",
          "name": "stdout",
          "text": [
            "[0 2 1 4]\n"
          ]
        }
      ]
    },
    {
      "cell_type": "markdown",
      "metadata": {
        "id": "nBUXN1OnFmES"
      },
      "source": [
        "Pour remplacer les valeurs d’un tableau, on utilise le signe égal (=) :"
      ]
    },
    {
      "cell_type": "code",
      "metadata": {
        "id": "91REATbvFnuL",
        "colab": {
          "base_uri": "https://localhost:8080/"
        },
        "outputId": "0f3dc515-3b89-4f5d-ed94-dfb42762e4a8"
      },
      "source": [
        "tableau = np.array([ [1, 2, 3], [4, 5, 6], [7, 8, 9], [10, 11, 12]])\n",
        "tableau"
      ],
      "execution_count": null,
      "outputs": [
        {
          "output_type": "execute_result",
          "data": {
            "text/plain": [
              "array([[ 1,  2,  3],\n",
              "       [ 4,  5,  6],\n",
              "       [ 7,  8,  9],\n",
              "       [10, 11, 12]])"
            ]
          },
          "metadata": {},
          "execution_count": 34
        }
      ]
    },
    {
      "cell_type": "code",
      "metadata": {
        "id": "SOGZwxaKFsLQ",
        "colab": {
          "base_uri": "https://localhost:8080/"
        },
        "outputId": "f9b6fc2b-50e6-4bf0-9c95-80bd8a2d1613"
      },
      "source": [
        "tableau[0] = [11, 22, 33]\n",
        "print(tableau)"
      ],
      "execution_count": null,
      "outputs": [
        {
          "output_type": "stream",
          "name": "stdout",
          "text": [
            "[[11 22 33]\n",
            " [ 4  5  6]\n",
            " [ 7  8  9]\n",
            " [10 11 12]]\n"
          ]
        }
      ]
    },
    {
      "cell_type": "markdown",
      "metadata": {
        "id": "uekq_1t6GCLx"
      },
      "source": [
        "Idem avec un découpage :"
      ]
    },
    {
      "cell_type": "code",
      "metadata": {
        "id": "-OyYWp1CF-q0",
        "colab": {
          "base_uri": "https://localhost:8080/"
        },
        "outputId": "759b69b2-6ded-4324-d283-0c1eaff7bea7"
      },
      "source": [
        "tableau[0:2] = 100\n",
        "print(tableau)"
      ],
      "execution_count": null,
      "outputs": [
        {
          "output_type": "stream",
          "name": "stdout",
          "text": [
            "[[100 100 100]\n",
            " [100 100 100]\n",
            " [  7   8   9]\n",
            " [ 10  11  12]]\n"
          ]
        }
      ]
    },
    {
      "cell_type": "markdown",
      "metadata": {
        "id": "JTfAduBkGLeK"
      },
      "source": [
        "Pour ajouter des éléments, on utilise la fonction append() de NumPy. Il faut noter que l’appel à cette fonction ne modifie pas l’objet auquel on ajoute les valeurs. Si on désire que les modifications sont apportées à cet objet, il faut l’écraser :"
      ]
    },
    {
      "cell_type": "code",
      "metadata": {
        "id": "Qn2ct5SkGQH7",
        "colab": {
          "base_uri": "https://localhost:8080/"
        },
        "outputId": "260c2091-645a-4781-d7a0-b493cc96e683"
      },
      "source": [
        "t_1 = np.array([1,3,5])\n",
        "print(\"t_1 : \", t_1)"
      ],
      "execution_count": null,
      "outputs": [
        {
          "output_type": "stream",
          "name": "stdout",
          "text": [
            "t_1 :  [1 3 5]\n"
          ]
        }
      ]
    },
    {
      "cell_type": "code",
      "metadata": {
        "id": "jnytwkCvGVbe",
        "colab": {
          "base_uri": "https://localhost:8080/"
        },
        "outputId": "ac292bf0-3cc9-4575-dba4-92d294d61712"
      },
      "source": [
        "t_1 = np.append(t_1, 1)\n",
        "print(\"t_1 après l'ajout : \", t_1)"
      ],
      "execution_count": null,
      "outputs": [
        {
          "output_type": "stream",
          "name": "stdout",
          "text": [
            "t_1 après l'ajout :  [1 3 5 1]\n"
          ]
        }
      ]
    },
    {
      "cell_type": "markdown",
      "metadata": {
        "id": "vzOYIndzGY3G"
      },
      "source": [
        "Pour ajouter une colonne à un tableau à deux dimensions :"
      ]
    },
    {
      "cell_type": "code",
      "metadata": {
        "id": "71MmGCjvMquU",
        "colab": {
          "base_uri": "https://localhost:8080/"
        },
        "outputId": "e5c26448-6448-4805-a221-69c6a76e2cd4"
      },
      "source": [
        "t_2 = np.array([[1,2,3], [5,6,7]])\n",
        "print(\"t_2 : \\n\", t_2)"
      ],
      "execution_count": null,
      "outputs": [
        {
          "output_type": "stream",
          "name": "stdout",
          "text": [
            "t_2 : \n",
            " [[1 2 3]\n",
            " [5 6 7]]\n"
          ]
        }
      ]
    },
    {
      "cell_type": "code",
      "metadata": {
        "id": "FNTaXx2uMv9X",
        "colab": {
          "base_uri": "https://localhost:8080/"
        },
        "outputId": "86ebda48-7df3-4dd2-e788-4b09b8658bcf"
      },
      "source": [
        "ajout_col_t_2 = np.array([[4], [8]])\n",
        "t_2 = np.append(t_2,ajout_col_t_2, axis = 1)\n",
        "print(\"t_2 après ajout colonne : \\n\", t_2)"
      ],
      "execution_count": null,
      "outputs": [
        {
          "output_type": "stream",
          "name": "stdout",
          "text": [
            "t_2 après ajout colonne : \n",
            " [[1 2 3 4]\n",
            " [5 6 7 8]]\n"
          ]
        }
      ]
    },
    {
      "cell_type": "markdown",
      "metadata": {
        "id": "jfjRdVB9M5Sr"
      },
      "source": [
        "Pour ajouter une ligne, on utilise la fonction vstack() de Numpy :"
      ]
    },
    {
      "cell_type": "code",
      "metadata": {
        "id": "67K5xitnM4FT",
        "colab": {
          "base_uri": "https://localhost:8080/"
        },
        "outputId": "ab820b9c-bacd-433c-9e11-5a803fc9bacc"
      },
      "source": [
        "ajout_ligne_t_2 = np.array([10, 11, 12, 13])\n",
        "t_2 = np.vstack([t_2,ajout_ligne_t_2])\n",
        "print(\"t_2 après ajout ligne : \\n\", t_2)"
      ],
      "execution_count": null,
      "outputs": [
        {
          "output_type": "stream",
          "name": "stdout",
          "text": [
            "t_2 après ajout ligne : \n",
            " [[ 1  2  3  4]\n",
            " [ 5  6  7  8]\n",
            " [10 11 12 13]]\n"
          ]
        }
      ]
    },
    {
      "cell_type": "markdown",
      "metadata": {
        "id": "1SkQo2VMNBSD"
      },
      "source": [
        "Pour supprimer des éléments, on utilise la fonction delete() de NumPy :"
      ]
    },
    {
      "cell_type": "code",
      "metadata": {
        "id": "wUUk3COENCNL",
        "colab": {
          "base_uri": "https://localhost:8080/"
        },
        "outputId": "0b40b1fd-625c-4b08-f351-b658a17cdee3"
      },
      "source": [
        "print(\"t_1 : \", t_1)"
      ],
      "execution_count": null,
      "outputs": [
        {
          "output_type": "stream",
          "name": "stdout",
          "text": [
            "t_1 :  [1 3 5 1]\n"
          ]
        }
      ]
    },
    {
      "cell_type": "code",
      "metadata": {
        "id": "HTkyshFwNHZ2",
        "colab": {
          "base_uri": "https://localhost:8080/"
        },
        "outputId": "93741880-9426-4abc-9774-82f95d9f3e0e"
      },
      "source": [
        "np.delete(t_1, (-1))"
      ],
      "execution_count": null,
      "outputs": [
        {
          "output_type": "execute_result",
          "data": {
            "text/plain": [
              "array([1, 3, 5])"
            ]
          },
          "metadata": {},
          "execution_count": 43
        }
      ]
    },
    {
      "cell_type": "markdown",
      "metadata": {
        "id": "d96la0hUNRer"
      },
      "source": [
        "Pour supprimer une colonne d’un tableau à deux dimensions :"
      ]
    },
    {
      "cell_type": "code",
      "metadata": {
        "id": "fFP9oAFZNkIv",
        "colab": {
          "base_uri": "https://localhost:8080/"
        },
        "outputId": "fa0cd2f2-8b3d-43ae-86b6-5170e8777842"
      },
      "source": [
        "print(\"t_2 : \", t_2)\n",
        "# Supprimer la première colonne :"
      ],
      "execution_count": null,
      "outputs": [
        {
          "output_type": "stream",
          "name": "stdout",
          "text": [
            "t_2 :  [[ 1  2  3  4]\n",
            " [ 5  6  7  8]\n",
            " [10 11 12 13]]\n"
          ]
        }
      ]
    },
    {
      "cell_type": "code",
      "metadata": {
        "id": "OjJUdtzWNqKP",
        "colab": {
          "base_uri": "https://localhost:8080/"
        },
        "outputId": "79cf07c0-e27d-4948-cc62-109733f6f72c"
      },
      "source": [
        "np.delete(t_2, (0), axis=1)"
      ],
      "execution_count": null,
      "outputs": [
        {
          "output_type": "execute_result",
          "data": {
            "text/plain": [
              "array([[ 2,  3,  4],\n",
              "       [ 6,  7,  8],\n",
              "       [11, 12, 13]])"
            ]
          },
          "metadata": {},
          "execution_count": 45
        }
      ]
    },
    {
      "cell_type": "markdown",
      "metadata": {
        "id": "YHJKzbQFNyc2"
      },
      "source": [
        "Et pour supprimer une ligne :"
      ]
    },
    {
      "cell_type": "code",
      "metadata": {
        "id": "DH6q7bFnNzyP",
        "colab": {
          "base_uri": "https://localhost:8080/"
        },
        "outputId": "7cbc73eb-5637-4e5a-ffd6-d333de505ba4"
      },
      "source": [
        "print(\"t_2 : \", t_2)"
      ],
      "execution_count": null,
      "outputs": [
        {
          "output_type": "stream",
          "name": "stdout",
          "text": [
            "t_2 :  [[ 1  2  3  4]\n",
            " [ 5  6  7  8]\n",
            " [10 11 12 13]]\n"
          ]
        }
      ]
    },
    {
      "cell_type": "code",
      "metadata": {
        "id": "ChjST-PNN4q1",
        "colab": {
          "base_uri": "https://localhost:8080/"
        },
        "outputId": "e4cd7940-a7a1-456c-8b50-4deac55ae9f1"
      },
      "source": [
        "np.delete(t_2, ([0,2]), axis=0)"
      ],
      "execution_count": null,
      "outputs": [
        {
          "output_type": "execute_result",
          "data": {
            "text/plain": [
              "array([[5, 6, 7, 8]])"
            ]
          },
          "metadata": {},
          "execution_count": 47
        }
      ]
    },
    {
      "cell_type": "markdown",
      "metadata": {
        "id": "lkBkiNjDOEfP"
      },
      "source": [
        "l est possible d’utiliser des opérateurs sur les tableaux. Leur effet nécessite quelques explications.\n",
        "\n",
        "Lorsque l’opérateur + (-) est utilisé entre deux tableaux de même dimension, une addition (soustraction) terme à terme est effectuée :"
      ]
    },
    {
      "cell_type": "code",
      "metadata": {
        "id": "riNy0AtBOH9E",
        "colab": {
          "base_uri": "https://localhost:8080/"
        },
        "outputId": "24374729-188c-4196-cce9-2360a04b2c81"
      },
      "source": [
        "t_1 = np.array([1, 2, 3, 4])\n",
        "t_2 = np.array([5, 6, 7, 8])\n",
        "t_3 = np.array([[1, 2, 3, 4], [5, 6, 7, 8], [9, 10, 11, 12]])\n",
        "t_4 = np.array([[13, 14, 15, 16], [17, 18, 19, 20], [21, 22, 23, 24]])\n",
        "t_1 + t_2"
      ],
      "execution_count": null,
      "outputs": [
        {
          "output_type": "execute_result",
          "data": {
            "text/plain": [
              "array([ 6,  8, 10, 12])"
            ]
          },
          "metadata": {},
          "execution_count": 48
        }
      ]
    },
    {
      "cell_type": "code",
      "metadata": {
        "id": "ShgBzeJqOQRG",
        "colab": {
          "base_uri": "https://localhost:8080/"
        },
        "outputId": "a6a7f9ad-9940-44ad-b523-eb608012c664"
      },
      "source": [
        "t_3 + t_4"
      ],
      "execution_count": null,
      "outputs": [
        {
          "output_type": "execute_result",
          "data": {
            "text/plain": [
              "array([[14, 16, 18, 20],\n",
              "       [22, 24, 26, 28],\n",
              "       [30, 32, 34, 36]])"
            ]
          },
          "metadata": {},
          "execution_count": 49
        }
      ]
    },
    {
      "cell_type": "markdown",
      "metadata": {
        "id": "3L6BL9-dOVo3"
      },
      "source": [
        "Lorsque l’opérateur * (/) est utilisé entre deux tableaux de même dimension, une multiplication (division) terme à terme est effectuée :"
      ]
    },
    {
      "cell_type": "code",
      "metadata": {
        "id": "d4lvNZ5wOWnG",
        "colab": {
          "base_uri": "https://localhost:8080/"
        },
        "outputId": "25422c0f-7385-410c-f51a-e853f1bb352b"
      },
      "source": [
        "t_1 * t_2"
      ],
      "execution_count": null,
      "outputs": [
        {
          "output_type": "execute_result",
          "data": {
            "text/plain": [
              "array([ 5, 12, 21, 32])"
            ]
          },
          "metadata": {},
          "execution_count": 50
        }
      ]
    },
    {
      "cell_type": "code",
      "metadata": {
        "id": "FaVXAYSmOazI",
        "colab": {
          "base_uri": "https://localhost:8080/"
        },
        "outputId": "ab4ca6fe-7c2a-465b-ea0b-6c5c8af49ce2"
      },
      "source": [
        "t_3 / t_4"
      ],
      "execution_count": null,
      "outputs": [
        {
          "output_type": "execute_result",
          "data": {
            "text/plain": [
              "array([[0.07692308, 0.14285714, 0.2       , 0.25      ],\n",
              "       [0.29411765, 0.33333333, 0.36842105, 0.4       ],\n",
              "       [0.42857143, 0.45454545, 0.47826087, 0.5       ]])"
            ]
          },
          "metadata": {},
          "execution_count": 51
        }
      ]
    },
    {
      "cell_type": "markdown",
      "metadata": {
        "id": "naMA-BI-OkX3"
      },
      "source": [
        "Lorsque l’opérateur * (/) est utilisé entre un scalaire et un tableau, tous les éléments du tableau sont multipliés (divisés) par ce scalaire :"
      ]
    },
    {
      "cell_type": "code",
      "metadata": {
        "id": "cLpPqW24OlP4",
        "colab": {
          "base_uri": "https://localhost:8080/"
        },
        "outputId": "617afc5b-5984-43ee-d16e-e994a96a365b"
      },
      "source": [
        "print(\"t_1 * 3 : \\n\", t_1 * 3)"
      ],
      "execution_count": null,
      "outputs": [
        {
          "output_type": "stream",
          "name": "stdout",
          "text": [
            "t_1 * 3 : \n",
            " [ 3  6  9 12]\n"
          ]
        }
      ]
    },
    {
      "cell_type": "markdown",
      "metadata": {
        "id": "zL_EjQeaQUOT"
      },
      "source": [
        "Il est également possible d’élever chaque nombre d’un tableau à une puissance donnée :"
      ]
    },
    {
      "cell_type": "code",
      "metadata": {
        "id": "EXiCV5xTQVWI",
        "colab": {
          "base_uri": "https://localhost:8080/"
        },
        "outputId": "93c81f06-3fee-4555-9152-ca0f8a28cd98"
      },
      "source": [
        "print(\"t_1 ** 3 : \\n\", t_1 ** 3)"
      ],
      "execution_count": null,
      "outputs": [
        {
          "output_type": "stream",
          "name": "stdout",
          "text": [
            "t_1 ** 3 : \n",
            " [ 1  8 27 64]\n"
          ]
        }
      ]
    },
    {
      "cell_type": "markdown",
      "metadata": {
        "id": "jJiEtcUzVZHM"
      },
      "source": [
        "## 3) Statistiques avec Numpy\n",
        "\n",
        "NumPy fournit de nombreuses méthodes pour calculer des statistiques sur l’ensemble des valeurs des tableaux, ou sur un des axes des tableaux (par exemple sur l’équivalent de lignes ou des colonnes dans les tableaux à deux dimensions).\n",
        "\n",
        "\n",
        "![tableau.jpg](data:image/jpeg;base64,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)\n",
        "\n"
      ]
    },
    {
      "cell_type": "code",
      "metadata": {
        "id": "wTg6nSi-Az0G",
        "colab": {
          "base_uri": "https://localhost:8080/"
        },
        "outputId": "8a532e02-40f7-4011-a886-8f98b3dc2ca4"
      },
      "source": [
        "t_1 = np.array([[1, 2, 3, 4], [-1, 6, 7, 8], [9, -1, 11, 12]])\n",
        "print(\"t_1 : \\n\", t_1)"
      ],
      "execution_count": null,
      "outputs": [
        {
          "output_type": "stream",
          "name": "stdout",
          "text": [
            "t_1 : \n",
            " [[ 1  2  3  4]\n",
            " [-1  6  7  8]\n",
            " [ 9 -1 11 12]]\n"
          ]
        }
      ]
    },
    {
      "cell_type": "code",
      "metadata": {
        "id": "Ee12N0MNA4BY",
        "colab": {
          "base_uri": "https://localhost:8080/"
        },
        "outputId": "e486bc4a-0c66-4c0f-fc58-85f749e599f2"
      },
      "source": [
        "print(\"Somme des éléments : \", t_1.sum())\n",
        "print(\"Covariance des éléments : \", t_1.var())\n"
      ],
      "execution_count": null,
      "outputs": [
        {
          "output_type": "stream",
          "name": "stdout",
          "text": [
            "Somme des éléments :  61\n",
            "Covariance des éléments :  18.07638888888889\n"
          ]
        }
      ]
    },
    {
      "cell_type": "markdown",
      "metadata": {
        "id": "Jj16BdqmCeHq"
      },
      "source": [
        "Pour appliquer ces fonctions sur un axe donné, on modifie la valeur du paramètre axis :"
      ]
    },
    {
      "cell_type": "code",
      "metadata": {
        "id": "5MNpcpghCf28",
        "colab": {
          "base_uri": "https://localhost:8080/"
        },
        "outputId": "648c7b2a-90f0-43ae-e2fa-07498b92f18d"
      },
      "source": [
        "print(\"Somme par colonne: \", t_1.sum(axis=0))\n",
        "print(\"Somme par ligne: \", t_1.sum(axis=1))"
      ],
      "execution_count": null,
      "outputs": [
        {
          "output_type": "stream",
          "name": "stdout",
          "text": [
            "Somme par colonne:  [ 9  7 21 24]\n",
            "Somme par ligne:  [10 20 31]\n"
          ]
        }
      ]
    },
    {
      "cell_type": "markdown",
      "metadata": {
        "id": "YHv3cPNyDsDQ"
      },
      "source": [
        "NumPy offre aussi certaines fonctions spécifiques aux statistiques\n",
        "\n",
        "![tableau (1).jpg](data:image/jpeg;base64,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)"
      ]
    },
    {
      "cell_type": "code",
      "metadata": {
        "id": "PxG6UDdsDpHD",
        "colab": {
          "base_uri": "https://localhost:8080/"
        },
        "outputId": "02e3571a-9dda-4205-ac3c-bc3120515a87"
      },
      "source": [
        "t_1 = np.array([[1, 2, 3, 4], [-1, 6, 7, 8], [9, -1, 11, 12]])\n",
        "print(\"t_1 : \\n\", t_1)"
      ],
      "execution_count": null,
      "outputs": [
        {
          "output_type": "stream",
          "name": "stdout",
          "text": [
            "t_1 : \n",
            " [[ 1  2  3  4]\n",
            " [-1  6  7  8]\n",
            " [ 9 -1 11 12]]\n"
          ]
        }
      ]
    },
    {
      "cell_type": "code",
      "metadata": {
        "id": "-WNd2OreD7Iq",
        "colab": {
          "base_uri": "https://localhost:8080/"
        },
        "outputId": "9fb4524d-f95f-4df1-d452-ff9c4b9a92ae"
      },
      "source": [
        "print(\"Variance: \", np.var(t_1))"
      ],
      "execution_count": null,
      "outputs": [
        {
          "output_type": "stream",
          "name": "stdout",
          "text": [
            "Variance:  18.07638888888889\n"
          ]
        }
      ]
    },
    {
      "cell_type": "markdown",
      "metadata": {
        "id": "uS4zGPriEH5O"
      },
      "source": [
        "Si le tableau comporte des valeurs NaN, pour calculer la somme par exempe, si on utilise sum(), le résultat sera NaN. Pour ignorer les valeurs NaN, on utilise une fonction spécifique (ici, nansum())"
      ]
    },
    {
      "cell_type": "code",
      "metadata": {
        "id": "FoWq2QyLEJGz",
        "colab": {
          "base_uri": "https://localhost:8080/"
        },
        "outputId": "96b3463d-6a7c-49c9-86cb-975d9f155d35"
      },
      "source": [
        "t_1 = np.array([[1, 2, np.NaN, 4], [-1, 6, 7, 8], [9, -1, 11, 12]])\n",
        "print(\"somme : \", np.sum(t_1))"
      ],
      "execution_count": null,
      "outputs": [
        {
          "output_type": "stream",
          "name": "stdout",
          "text": [
            "somme :  nan\n"
          ]
        }
      ]
    },
    {
      "cell_type": "code",
      "metadata": {
        "id": "NI2dqMFAEMer",
        "colab": {
          "base_uri": "https://localhost:8080/"
        },
        "outputId": "56c648e2-f240-44f8-874d-0b5604d08b11"
      },
      "source": [
        "print(\"somme en ignorant les NaN : \", np.nansum(t_1))"
      ],
      "execution_count": null,
      "outputs": [
        {
          "output_type": "stream",
          "name": "stdout",
          "text": [
            "somme en ignorant les NaN :  58.0\n"
          ]
        }
      ]
    },
    {
      "cell_type": "markdown",
      "source": [
        "## 4) Résolution d’un système d’équations linéaires\n",
        "\n",
        "Pour résoudre le système d’équations linéaires 3 * x0 + x1 = 9 et x0 + 2 * x1 = 8 :"
      ],
      "metadata": {
        "id": "o6JNxUrcbIRS"
      }
    },
    {
      "cell_type": "code",
      "source": [
        "a = np.array([[3,1], [1,2]])\n",
        "b = np.array([9,8])\n",
        "x = np.linalg.solve(a, b)\n",
        "\n",
        "x\n"
      ],
      "metadata": {
        "id": "P61btP0rbVJ6",
        "outputId": "4fc6af19-cef2-4fd5-dea5-bde1228aa8b4",
        "colab": {
          "base_uri": "https://localhost:8080/"
        }
      },
      "execution_count": null,
      "outputs": [
        {
          "output_type": "execute_result",
          "data": {
            "text/plain": [
              "array([2., 3.])"
            ]
          },
          "metadata": {},
          "execution_count": 61
        }
      ]
    },
    {
      "cell_type": "markdown",
      "source": [
        "Pour vérifier que la solution est correcte :"
      ],
      "metadata": {
        "id": "c5lzhR6Ybdrf"
      }
    },
    {
      "cell_type": "code",
      "source": [
        "np.allclose(np.dot(a, x), b)"
      ],
      "metadata": {
        "id": "CAHtW1xVbejY",
        "outputId": "97c455b3-7a79-45e4-f0b1-0ce5f05a1fff",
        "colab": {
          "base_uri": "https://localhost:8080/"
        }
      },
      "execution_count": null,
      "outputs": [
        {
          "output_type": "execute_result",
          "data": {
            "text/plain": [
              "True"
            ]
          },
          "metadata": {},
          "execution_count": 62
        }
      ]
    }
  ]
}