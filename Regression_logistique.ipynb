{
  "nbformat": 4,
  "nbformat_minor": 0,
  "metadata": {
    "colab": {
      "provenance": [],
      "include_colab_link": true
    },
    "kernelspec": {
      "name": "python3",
      "display_name": "Python 3"
    },
    "language_info": {
      "name": "python"
    }
  },
  "cells": [
    {
      "cell_type": "markdown",
      "metadata": {
        "id": "view-in-github",
        "colab_type": "text"
      },
      "source": [
        "<a href=\"https://colab.research.google.com/github/annefrancine/ML_2022-2023/blob/main/Regression_logistique.ipynb\" target=\"_parent\"><img src=\"https://colab.research.google.com/assets/colab-badge.svg\" alt=\"Open In Colab\"/></a>"
      ]
    },
    {
      "cell_type": "markdown",
      "source": [
        "La régression logistique est un modèle statistique permettant d’étudier les relations entre un ensemble de variables qualitatives Xi et une variable qualitative Y. Il s’agit d’un modèle linéaire généralisé utilisant une fonction logistique comme fonction de lien.\n",
        "\n",
        "Un modèle de régression logistique permet aussi de prédire la probabilité qu’un événement arrive (valeur de 1) ou non (valeur de 0) à partir de l’optimisation des coefficients de régression. Ce résultat varie toujours entre 0 et 1. Lorsque la valeur prédite est supérieure à un seuil, l’événement est susceptible de se produire, alors que lorsque cette valeur est inférieure au même seuil, il ne l’est pas.\n",
        "\n",
        "Il existe plusieurs types de régression logistique, à savoir :\n",
        "\n",
        "* Régression logistique binaire : la variable cible n’a que deux résultats possibles, comme par exemple « cancer » ou « pas de cancer ».\n",
        "* Régression logistique multinomiale : la variable cible a trois catégories nominales ou plus, comme par exemple la prédiction du type d’un iris.\n",
        "* Régression logistique ordinale : la variable cible a trois catégories ordinales ou plus, comme la notation des produits de 1 à 5."
      ],
      "metadata": {
        "id": "1NQUWFOT3zal"
      }
    },
    {
      "cell_type": "markdown",
      "source": [
        "## Mathématiquement, comment ça se traduit/ça s’écrit ?\n",
        "\n",
        "Considérons une entrée  X= x1 x2 x3 …  xn , la régression logistique a pour objectif de trouver une fonction h telle que nous puissions calculer :\n",
        "\n",
        "y= {1   si   hX≥ seuil ,  0   si   hX< seuil}  \n",
        "\n",
        "**On comprend donc qu’on attend de notre fonction h qu’elle soit une probabilité comprise entre 0 et 1, paramétrée par =1 2 3 n à optimiser, et que le seuil que nous définissons correspond à notre critère de classification, généralement il est pris comme valant 0.5.**\n",
        "\n",
        "La fonction qui remplit le mieux ces conditions est la fonction sigmoïde, définie sur R à valeurs dans [0,1]. Elle s’écrit de la manière suivante :\n",
        "\n",
        "![image.png](data:image/png;base64,iVBORw0KGgoAAAANSUhEUgAAARMAAAC3CAIAAAC+MS2jAAAbNElEQVR4nO2dfVgTV77HfzEQCMaN4MtGRB5pa6nLFu0jFbWV24rtFrdKr/tsrX3BtYp2leu2vbpF8ZHqYq2rbrEFa6uuV2oVweUayy67iC4LayWx1UZEE6QEMJDI+5QpAxPncv847TQNL2qYYZLw+/zBw5mX33zPnPnmzJw5Z46sp6cHEAS5R0ZILQBBPBJ0DoK4AjoHQVwBnYMgroDOQRBX8BEvtM1my8vL6+zsFO8Qw5yAgAA8vaISEBCwZs2aPleJ6Jza2tqKioply5YJ2/Atk8nOnDkzf/58AWOSsEajUa1WazQawSOLJPjIkSOLFy9WqVSCRz5z5sxTTz0lRsHNnTvXz89PwLAAYLPZ6uvro6KiBH/F8tpvk1avXi2Xy3uvEtE5MpksODh45syZgkc2Go1RUVF95meQqNXq8PBwwcMaDIbo6GjBw545cyYiIkJwqwNAdXW1GAVnMBhmzZqlUCiEDWuxWFQqlRiCNT8d298qEZ0j3jvW6OhoMWwTGhqqVCoFDwsAMTExYoQFgNu3b4sR9pFHHhEjbExMjBgFN3r0aDF+7wZGROeIh0inSYwfb8LQl+sgEUmwSGFVKpXgt6x3BNvWEMQV0DkI4groHARxBXQOgrgCOgdBXMF151AUlZ2dbbFYHBdmZWWdPXuW/C+TyQYlDUHcGNed09raevHixXPnzvFLdu/ePXHixMuXL5eUlAihDUHcF9edExYWtmDBAsclZ8+ejY2N/dWvfqXX6wctDEHcGiGfc9RqtdOS8vJyrVbL39QRR9lsNpPJBAA6nY7jOIqiDAYDWcuyLE3TOp0OACoqKiiK4jiO1GBms9lmswEASdpsNrPZTJIsy1IUVVFRQYLQNM0wDIlpMBgoimJZlhy6oqLCZrPxSZPJZLFYOI4jR7RYLHxMcggSk+ikaZrsZTAYaJrm9zKZTI7CzGYzySzZi88syR2v02AwMAzD553EZBiGF0ZkO8V0yntDQ4OPj49T3vnckbwTJY46SdJsNpMgZGOLxcLrJLId805RlGPeGYYhSpzybrFYeJ2OedfpdAzD0DTNFzRFUXwZkYImwflCoSgo+txAUaDX1+j1NXV1cOjQ+StX4C9/sWZmVhYUQHLy+SNHID29beNGQ3o6bNxo2LkTtm+HjRsN5O/Gje2bNkFy8vlNmyA5+cbGje0bNsChQ+cdC1qn07Es61hGpFD0ev3Zs2e1Wq25xtJfpweZy31kGIY5fPhwQ0NDcnLytWvXQkND8/LywsPDy8rK5s6dGxMTo9PpioqKUlJSXIuP3JHt27cvW7YsJCREaiGuYLeD1QrV1dDUBM3N8M03cPs2WCzQ0QEUBd3dEBAAvr4QFARjxsDIkRAUBAEBEBAApLcA6fsml4Nj99GAAAAAmQwce8aRhQS1Gnr9vA9EXFxcfn6+wD0+KYoKCgoKCgpqamoivV/XrFmTnZ1NbONyWMT7oCioqYHKSqivB4MBqqpAqYSwMLjvPggMhMBAmDoVNBoYOxbUavD1lVru3eG6czQazQsvvOC0sPcSZBhCUVBbC/X1UFAAVitMngxjx8LkyfDMM/Daa0B+wT3FIf3hkT0+ETeE47jGRvlXX8G5c9DdDSoVzJ0L69ff8w2Sp4DOQQZLVxdotXDunPzbbyE+HlasgIceklqT+KBzENe5cAGyssBigYQE2LsX/P2lFjSEoHOQe8Zuh6IieO89WLAAtmyBCROkFiQF6BzkHiCeycmB2bMhN9c7H2DuEnQOcrcYjZCWBo89Bunpw9ozBHRO39A0vXfv3hUrVog3xNqDsNvhj3+EqipIT4ex/X7TYniBowz6oKy08K233tr83gGRvo/hWVy4AL/8JcybB4cPo21+AOucPvj5I3My5z79+QW93W6XWovEfPgh3Lw53B9p+gTrnD4Y+g+puCEUBRs2QEAAvPMO2qYP0DlIHzQ3w8svw+LFsGyZ1FLcFbxb6xe5j8LX0ztXuURdHcTHw5kz+FQzEFjn9AEZKP7lxc//J/szp+HiXs+VK7ByJej1aJs74C7OISOKHJdYLJasrCyGYRwXVlRUaLVascXI5fKpU6cajcaFT83x8RlG1bLBAH/4A/z1rx7fkXkIcBfnZB/al5OTwycpilq/fv28efOcPvQcERFBUdS+fftEFaNSqaZNmxYeHj5t2rTh8z7HaITUVPjkE7TNXeEWzmFZ9ovr1WERP3yLftOmTVu3buVHO5JBwhzHAUBCQkJJSQkZ64sIhdUKiYmQmzu8em0OBolvRTiOS01NZRim8HQeAJgrpicmJjIMs2/fvszMTABgGGb+Y4/85rf//ffPcvzGhx87mAEAiYmJp06dioiIIEEYhsnNze3u7ubD2u32l156qfd3EZA+aW6G55+H/Hysbe4BiZ2T9WG6/+iJv0t69l+lZZmZmTKZbOHChUqlcvojUfw2WzNOTBrjn33670feTiZLxo4dW15ezm8gl8vDw8OdnOM0SQtN05cuXRI1L3a7fc6cOSLNIyIeXV2wYQMcOIAvbe4NiZ3z6n+tZ5iery4Wznp6cZ8bKJXKWZH3jxo1qrq6ur9PVZDPrDi2JbAsK5P96Aqmafrq1asCKu9NZ2dnVFSUxzlnzx54/vlhMRZNWCR2TjBAdzcUfPbX5557tay0cOmKtePGjWNZ9qvLX5ANGIb5RUxUZeXNW5Zrvr6+xDwURT3wwAMDhFUoFLdv0wA/dAXQaDT9Tfg4nPn4YwgKgrg4qXV4IBI7529ffbV69QtfGSpMdbcmTpx46INdcrlcqVQuWbLEbDaHhYW9m5rsPzFCq83OzvnfU3knyF4nTpxYtWoVH0SpVMbHx9/lEcmXvgRsMaNpuqmpSalUSjL/0WC4cgWuXoX335dah4fSIxplZWVpaWl33KzRWrdkyRKr1eq4sLq6es2aNe3t7R0dHe3t7VartaOjg6wi33C7ffv2veq5ffv2qVOnHgjRHMr5W58bZGZmdnZ23jFIpwM9PT1paWmZmZkPhGgqK2/eq6RBkpaWdvOmiwdlmJ7HH+9pbxdWkbfxzDPP9HelSd8qba6zjlCNdaoEwsLCVq1adeDAAblcTuaLJj/nBoPh8uXLW7ZscWG6ydamBpVKtSbx5f42WLt2LcuyvZdzHKfX68lXIauqqtY7AABJSUnK/2M2/unPU6Z40hcDt22DjAxsFXAd6V+QT58+/dAHD/dePm3atGnTpt3NwrtknGZSrGbSlfN/72+DqZNCe0+bTNP0okWLUlJSkpOTP/ooKzw8nDSX8xw4cGD8+PHTHgx2TZUkFBQAALh6IhEAd3CO4HN83ytarXb//v1qtfr6zbrly5cDwM+j/mPz+t+Stbu2pSxdunSkgpONDBw1yvl0mUwmq9UKAAdyizI85Eq0WuHTT+HoUal1eDjSO0dyYmNjo6OjVSrVlc8v7NixIygoiF9F03RR0T9+M+XnNfWteUf/3PvVanh4+J49eziOE2OycpHYtg02b5ZahOcj/XPOUMKybDvNAgDpyENQqVTkOYq6WTdu3Di1Ws07hOO4b1rrXnklMTo6uoDc4vSFB9mmoADCw/HtjQAMozqHYZh3U5P15ZX68sqG2hr+fownIETj6CgAUKvVBz45NXvOo/OejNmwYcMQihWLTZsAJzcShGHkHKVSufWPewfY4MZNa++Fs+Y+ffnS06KJGlLWrYMjR7BzmjAMr7u14cyVK2C3Q2Sk1Dq8hWFU5wxn7HbIzITt26XW4UVgnTMsOHUKZszAAdJCgnWO90NRkJMDn3witQ7vAusc7ycjA958Ewd7Cgw6x8tpbobr12HmTO7OmyL3AjrHy9m5EzZv9qR3tZ4COsebqauD5mbsMSAK6BxvZscO2LpVahFeCjrHazEYIDAQQkOl1uGloHO8lv374bXXpBbhvaBzvJMLFyAkBCscEcE3od5JaiocOya1CK8G6xwvpLgYFizAvjbignWOF7JnDw6WFh2sc7wNgwFmzcKP2ogOOser4Dhu1y5ISpJaxzAAneNV6PXyqVOxwhkK0DlexfHj8MorUosYHqBzvAeDAVQqfIczRKBzvIddu7DTwNCBzvESjEYIDcUKZ+hA53gJ+/ZhhTOkoHO8geZmaG3FCmdIQed4A3/6E3jFF0g9iTv0vjGbzdXV1U1NTcHBwQ8++KCAU50hQtHcDNeu4ZQeQ81AztHpdDRNk8nTGYbR6XSRkZFhYWFDpQ25M34+PUePwuuvS61j+DGQcyIjIxUKhdVqHT9+PMMw8fHxNE07bsCyLMdx/GzMHMeRCaKVSiV+MmJoaO+QXb+OzpGAgZ5zlEolwzCnT59ubGzMyMigKMpxBlmKohISEpYvX24wGMiS4uLilStX7t27t6mpCQBkMpmo0hE/P79Dh5jnnpNax7Dkzi0E4eHhPj4+kyZNcpp3KScnZ82aNQcPHszNzSVLaJqOiop67rnnyONQT0+PGIoRHpWqu7RU+eSTUusYlgzkHFLJxMbGajSaxYsXcxzneLfW2Njo7+9P6iUy7Ux0dHRMTMypU6fOnj0LADKZrKGhwWQyGQwGiqIAwGKxAABN0zabjU8yDMMnOY5jWZYst9lsJDKZ2paiKHJ0Pklims1mcpfIB2FZlmVZkuSD8DFpmnZM8kGcYjrpdBJGblPJZiTmXQZx0sknScwB8t5nTKax/c035b6+nGNMx9yRm2enzJIkH5NPOhZK7zK617yTq6XPQrFYLE6FMkAZOeWd10mSThdP77zzOvssaLJX7zKyWCwmk6mioqK7u7s/dwz0nEMmwYyMjFQqlS0tLVVVVZGRkfwN2/3332+1Wq1WK3mqYVl23LhxGo1GrVafPHkyNjYWAPz9/UeOHAnfz2rm4/Pd4cijEZ/8Tsr3SfIP/7Dk++MJX0hSLpcTu5JQcrncMabjU5bjofmYTkk+SH8xySonwWRtb52OMXtn1jFmH+XxvTDHjfmYfN7J8jdTFY3W2/yjptMJ7B3TqRQc1/Y+gU7Ju8k7nyNfX1+5XN77BPJHHEAJiel4RKcy4g/teMTeeXfcq7+CHiCzI0eOtNvtvQuIRzbwPZXNZqusrGxra5swYcLPfvYzx+cchmHWr1/f0tKyY8eO6upqX19fu92el5fX0tKSnp6u0Wh0Ol1RUVFKSsoA8RGXMRhg+vSURutr4zSTpNbitcTFxeXn5/f9GzfAbqTia2ho6OjomDBhgqNtAECpVPLzm/NN1aSqQcSG47i0NHlaWkD3bWyGkYaBnnNGjx7d0NCgVCrnz59vtVrJXeCQKUMG4OpV+WOPwZgxUusYxgzkHJVKNWPGDABobGxkGIaiKJZlh0oYMhCHDsGSJdDSIrWOYcwdWqXlcnlcXBxN00888URERAT/wIpIiNEIADBhgtQ6hjd3/mqUQqHApxe3Yu9e+N3vpBYx7MG+0h6G0QgqFU7sIT3oHA8jKwu/0eEWoHM8CYqCGzcgIgJbOKUHneNJkLlysR+6O4DO8RgoCv71L5g9W2odCACgczyIY8fgrbekFoF8DzrHM2huhnPnAN8OuA/oHM8gLw9efVVqEYgD6BwPgKLgwgWYP19qHYgD6BwP4NgxePll+PEwJURi0Dnujt0O//gHPPaY1DqQH4POcXcOH4bVq8HfX2odyI/BeULdmq4u+OQTKC2VWgfSC6xz3Jr9++Htt6UWgfQFOsd9sVrh/Hl8h+OmoHPcl6wsWLtWahFIP6Bz3JS6OqiuhieekFoH0g/oHDdl92544w2pRSD9g85xR3Dgp/uDrdLuSHIyHDwotQhkQLDOcTuKi2H2bBg7VmodyIBgneNedHXBO+9AYaHUOpA7gXWOe5GVhQ0DngE6x42oq4MLFyAuTmodyF2AznEjUlNxvLTHgM5xFwoKYOZMbIn2GLCFwC0gDQNnzkitA7lrsM5xC7Ztg4wMHITjSaBzpOfCBbDbYdo0qXUg9wLerUkMRcHOnfD99N6Ix4B1jsT8/vfw7rv4dQ7PA50jJUeOwJw52J7mkeDdmmQYjZCfj/dpngo6RxooCpYuBb1eah2Iq+DdmgTY7bB2LRw/jo83Hgw6RwJSU+Gll/DxxrNB5ww1H34Ikydjt06PB50zpOTmws2bsGqV1DqQQYMtBENHQQEUFcFHH0mtAxECrHOGiIICKChA23gPWOcMBbm5oNfDnj1S60CEA50jOunp0NgIu3ZJrQMRFLxbExG7HVavhsBAeOcdqaUgQoN1jlgYjbBzJ6xahfOweyfoHFEoKICcHNi6FUJDpZaCiAM6R2AoCpKTISQEDh+WWgoiJugcITlyBE6ehF27sGeN94MtBALAcVxxMSxcCAEBkJeHthkWYJ0zKLq64Px5yMmR33cfHD0KarXUgpChAp3jIl1dcOIEnDwJsbHw9tswYYLUgpChBZ1zb3AcV1wsP3kSLBZYswY++0xqQYhEoHPuCqMRzGbIyQEA+ezZsGULVjLDHXROH3Ac19Ym7+yEigooLQWaBj8/mDkTtm6FCRNwICcCMBjn0DT97rvvKpXKDRs2KBQKALDZbBkZGcHBwcuXL1cqlTKZTDidImK3A8cBTcONG1BeDk1NcOuWvK4OpkyBefNgyRKYPBkf/RFnXHfO/v37Fy1a1NHRceTIkcTERADIyMhISkrS6XSFhYXx8fE9PT3C6RwsFAUUBW1t0NwMra3Q2QltbVBdDWYztLfD6NHw8MMQHg6TJkFMDNx/P1YsyB1w3Tnt7e2hoaEMw5SVlZElX375pUajiYyMPHbsWHx8vEwmYxiGoiiGYYKCghQKBUVRarWaZVmWZVUqlWOyo0PV1ATffgsAEBAAnZ3fHaW7G/z8fvjLcRAQAO3t36395hsYMQKam6G7G7q7ob4e/PzAagWK+m5fAFCrISgI/Pzgpz8FHx8IDITAQHjwQQgMhMmTYcQIVqFQ0DStUqk4juM4rj+dHMcxDKNSqWiaViqVcrmcLKdpWqFQ8HsxDAMASqWSD8JxnGOSxCRBAMAxJgDQNN1nTLlc7iiMxCQngRdGUZRKpRpAmGOQu9TZZ955nXcfU6VS9c4sn3TUeU/n0ynvjifQsYz6O4G9M8vrJJEHuP4H9SaUYZhO/hoHIDnp7OwcP348WVJVVfXFF1/odLrW1lYAqKmpAYDW1tb6+no+yTBMfX19TQ0cP24oKQGdDv7978qSErh0qVKna7t+HS5dKqushKtXa2/cqG1uhmvXzgNAZ6e1s9P60EMwYsTFJ5+EZ56BJ5+s2bIFfvGfhvR0OHoU0tIMp0/De+9VHDxIffABu3atKSUFXl1288UX6V//Gn7yk4qHHgKr1dza2spx3LVr1wCgqampsbERAIxGIy8MAEwmEzmPtbW1AFBbW0vOrMlkInuRU0z2amlpoSiK36u1tdVms5HMsizLx6ytrSVJPiYpP3JOSEyWZckhWlpayAkkh+Bjtra2+vj48DHJIfgg9fX1RBgJYrPZHEuhpaWlpaXFsVB4nY55r6mpIXn/+uuveZ183m02W595NxqNZC+nvDudQJIkOh3zTgrFSSc5Iq+TJGmaJkGITn6v+vp6mqZ7550Pwued6HTMLIlJrlvbrWa5XN7nxS9z+Z5Kp9Pl5OR0dXWtW7fOaDRGRkZWV1eXlZU1NDSsW7cuPDxcp9MVFRWlpKS4Fh+5I9u3b1+2bFlISIjUQryWuLi4/Pz8Ps3j+t1adHT0+PHjfX19Q0JCNBqNQqEICwvTaDRjxozRaDSDUIsgHsCgWqXDwsLIP+rv254iIiIGqwhBPAHs8YkgroDOQRBXQOcgiCugcxDEFdA5COIK6BwEcQWPdI7BYOA4TvCwFouFvJ8WHIPBIEZY8aioqBAjrEgFR1GU2WwWPOzAeKpz+usTMRgaGhpI5xHBEc85Pj6ijBMpLy8XI6xI56Gjo6O6ulqMyAMg7vic8vJynU7XTbpeCkdlZWVJSYmwMQHAZDKNGjXq1q1bwob18/MTQ7Cfn19DQ4NOpwsMDBQ2MgB8/fXXYpzhysrK4uJiX6E7ore1td24cUPwsABgrrH0t8r1fmt3hKKogoIClmUFj6xQKEQKCwAoGMQULEZY8SKr1er4+Pg+V4noHATxYkR/zmFZVqvVivHkbbFYtFot6UwuLBRFCS7YZrNptVphH2T1er3gj/Icx5WUlIhxqwYALMuK8ShPUZQY19jAl664zmFZ9o033lCpVMuXLxf24dtgMOzfv1+lUrXzw9wEguO41atXfyb0V210Oh0AbNy4kQwRGTwlJSWnT58+fvy4sFe51WqtqakxmUy7d+8WMCxh27Ztgoe12Wzbtm0LDAwkQ26EgmXZhISEwMDA119/vU/zCO8c1gG5XB4cHAwA99133yBbwziO48MCQG5uLgD885//HDVqlICCAeDTTz9dunSp3W4fZFhHwRzHxcfHx8fHR0VFCfULUlhYuGHDhhUrVmi1WkECEkJCQhISEmJiYgT/SSopKXn00UfJ9SAgxcXFXV1dhYWFAQEBAoaVy+UPP/yw3W4fM2YMP/zWEYHb1liWff/99/mTnpSUxDCMr6+vv78/GbHscuT8/PyLFy8CAMMwCQkJbW1tixcvVqlUBw4cWL9+vcthbTbboUOHyMDG0aNHx8XFGQyGBQsWNDQ0uByzt+AlS5bMnDlTp9O1t7fPnDlzkJF5SAuBGKSmpgpbOdA0vW/fvq1btxYWFg7ySnCitbV1+vTpCxcu3LVr1x7hpsUjY0XJpcswjLrXN1wEdo5CoXC8jm0225dffpmWllZaWnrr1q3BjHgjv9l8kgwE8vf3H2STt0ajcRy1SlFUTEzM5cuXq6qqWJYdzKXpJFiv12dlZWVmZg5GrSPBwcEXL1602+0PCfoda5Zl4+Pj9+3bJ+xQU4VCkZiYePny5evXrwvrnBkzZpSWliqVyq6uLqFiAkBra+vnn38+wKUretuaXq8/ceJETExMf617rsFx3EcffdTW1pacnCz4W1GbzVZXVydg5QAAWq22vr6+ra3txRdf5EcEDpLt27cHBgauXLlSwMrHYrFkZ2cDwJQpU4QtMsLZs2djY2OFjZmdnX316tWkpCRhByMbDIasrKyYmJhnn3229zWGrdII4goe2fsGQSQHnYMgroDOQRBXQOcgiCvgXAaeitlsLi0tVSgUjz/+OH6scOjBOsdTUSqVM2bM+Pjjj78lX+NGhhZslfZgNm/evGjRImHfOyF3CdY5nopWq62qqrJarRZLv6OvEPHAOsdToSiKfJ9/3LhxAnZmQe4SdA6CuALerSGIK6BzEMQV0DkI4groHARxBXQOgrjC/wNSMM08CfdnbwAAAABJRU5ErkJggg==)\n",
        "\n",
        "\n",
        "\n",
        "Graphiquement, celle-ci correspond à une courbe en forme de S qui a pour limites 0 et 1 lorsque x tend respectivement vers -∞ et +∞ passant par y = 0.5 en x = 0."
      ],
      "metadata": {
        "id": "se54_vqaHIY6"
      }
    },
    {
      "cell_type": "code",
      "source": [
        "# charger les packages\n",
        "import pandas as pd\n",
        "import numpy as np\n",
        "import matplotlib.pyplot as plt\n",
        "import seaborn as sns\n",
        "%matplotlib inline\n",
        "\n",
        "import statsmodels.api as sm\n",
        "import statsmodels.formula.api as smf\n",
        "from sklearn.linear_model import LogisticRegression\n",
        "from sklearn.metrics import roc_auc_score, roc_curve, classification_report,\\\n",
        "                            accuracy_score, confusion_matrix, auc"
      ],
      "metadata": {
        "id": "BQXQrtKRKH6G"
      },
      "execution_count": null,
      "outputs": []
    },
    {
      "cell_type": "code",
      "source": [
        "# lire le dataset\n",
        "titanic = pd.read_csv('https://raw.githubusercontent.com/agconti/kaggle-titanic/master/data/train.csv')\n",
        "titanic.head()"
      ],
      "metadata": {
        "colab": {
          "base_uri": "https://localhost:8080/",
          "height": 206
        },
        "id": "PkD9ObPzKJKl",
        "outputId": "993b382e-dcb4-4e47-c7f6-13d955fc9b92"
      },
      "execution_count": null,
      "outputs": [
        {
          "output_type": "execute_result",
          "data": {
            "text/plain": [
              "   PassengerId  Survived  Pclass  \\\n",
              "0            1         0       3   \n",
              "1            2         1       1   \n",
              "2            3         1       3   \n",
              "3            4         1       1   \n",
              "4            5         0       3   \n",
              "\n",
              "                                                Name     Sex   Age  SibSp  \\\n",
              "0                            Braund, Mr. Owen Harris    male  22.0      1   \n",
              "1  Cumings, Mrs. John Bradley (Florence Briggs Th...  female  38.0      1   \n",
              "2                             Heikkinen, Miss. Laina  female  26.0      0   \n",
              "3       Futrelle, Mrs. Jacques Heath (Lily May Peel)  female  35.0      1   \n",
              "4                           Allen, Mr. William Henry    male  35.0      0   \n",
              "\n",
              "   Parch            Ticket     Fare Cabin Embarked  \n",
              "0      0         A/5 21171   7.2500   NaN        S  \n",
              "1      0          PC 17599  71.2833   C85        C  \n",
              "2      0  STON/O2. 3101282   7.9250   NaN        S  \n",
              "3      0            113803  53.1000  C123        S  \n",
              "4      0            373450   8.0500   NaN        S  "
            ],
            "text/html": [
              "\n",
              "\n",
              "  <div id=\"df-4d2dd9e2-4551-436e-9f82-034d455be01c\">\n",
              "    <div class=\"colab-df-container\">\n",
              "      <div>\n",
              "<style scoped>\n",
              "    .dataframe tbody tr th:only-of-type {\n",
              "        vertical-align: middle;\n",
              "    }\n",
              "\n",
              "    .dataframe tbody tr th {\n",
              "        vertical-align: top;\n",
              "    }\n",
              "\n",
              "    .dataframe thead th {\n",
              "        text-align: right;\n",
              "    }\n",
              "</style>\n",
              "<table border=\"1\" class=\"dataframe\">\n",
              "  <thead>\n",
              "    <tr style=\"text-align: right;\">\n",
              "      <th></th>\n",
              "      <th>PassengerId</th>\n",
              "      <th>Survived</th>\n",
              "      <th>Pclass</th>\n",
              "      <th>Name</th>\n",
              "      <th>Sex</th>\n",
              "      <th>Age</th>\n",
              "      <th>SibSp</th>\n",
              "      <th>Parch</th>\n",
              "      <th>Ticket</th>\n",
              "      <th>Fare</th>\n",
              "      <th>Cabin</th>\n",
              "      <th>Embarked</th>\n",
              "    </tr>\n",
              "  </thead>\n",
              "  <tbody>\n",
              "    <tr>\n",
              "      <th>0</th>\n",
              "      <td>1</td>\n",
              "      <td>0</td>\n",
              "      <td>3</td>\n",
              "      <td>Braund, Mr. Owen Harris</td>\n",
              "      <td>male</td>\n",
              "      <td>22.0</td>\n",
              "      <td>1</td>\n",
              "      <td>0</td>\n",
              "      <td>A/5 21171</td>\n",
              "      <td>7.2500</td>\n",
              "      <td>NaN</td>\n",
              "      <td>S</td>\n",
              "    </tr>\n",
              "    <tr>\n",
              "      <th>1</th>\n",
              "      <td>2</td>\n",
              "      <td>1</td>\n",
              "      <td>1</td>\n",
              "      <td>Cumings, Mrs. John Bradley (Florence Briggs Th...</td>\n",
              "      <td>female</td>\n",
              "      <td>38.0</td>\n",
              "      <td>1</td>\n",
              "      <td>0</td>\n",
              "      <td>PC 17599</td>\n",
              "      <td>71.2833</td>\n",
              "      <td>C85</td>\n",
              "      <td>C</td>\n",
              "    </tr>\n",
              "    <tr>\n",
              "      <th>2</th>\n",
              "      <td>3</td>\n",
              "      <td>1</td>\n",
              "      <td>3</td>\n",
              "      <td>Heikkinen, Miss. Laina</td>\n",
              "      <td>female</td>\n",
              "      <td>26.0</td>\n",
              "      <td>0</td>\n",
              "      <td>0</td>\n",
              "      <td>STON/O2. 3101282</td>\n",
              "      <td>7.9250</td>\n",
              "      <td>NaN</td>\n",
              "      <td>S</td>\n",
              "    </tr>\n",
              "    <tr>\n",
              "      <th>3</th>\n",
              "      <td>4</td>\n",
              "      <td>1</td>\n",
              "      <td>1</td>\n",
              "      <td>Futrelle, Mrs. Jacques Heath (Lily May Peel)</td>\n",
              "      <td>female</td>\n",
              "      <td>35.0</td>\n",
              "      <td>1</td>\n",
              "      <td>0</td>\n",
              "      <td>113803</td>\n",
              "      <td>53.1000</td>\n",
              "      <td>C123</td>\n",
              "      <td>S</td>\n",
              "    </tr>\n",
              "    <tr>\n",
              "      <th>4</th>\n",
              "      <td>5</td>\n",
              "      <td>0</td>\n",
              "      <td>3</td>\n",
              "      <td>Allen, Mr. William Henry</td>\n",
              "      <td>male</td>\n",
              "      <td>35.0</td>\n",
              "      <td>0</td>\n",
              "      <td>0</td>\n",
              "      <td>373450</td>\n",
              "      <td>8.0500</td>\n",
              "      <td>NaN</td>\n",
              "      <td>S</td>\n",
              "    </tr>\n",
              "  </tbody>\n",
              "</table>\n",
              "</div>\n",
              "      <button class=\"colab-df-convert\" onclick=\"convertToInteractive('df-4d2dd9e2-4551-436e-9f82-034d455be01c')\"\n",
              "              title=\"Convert this dataframe to an interactive table.\"\n",
              "              style=\"display:none;\">\n",
              "\n",
              "  <svg xmlns=\"http://www.w3.org/2000/svg\" height=\"24px\"viewBox=\"0 0 24 24\"\n",
              "       width=\"24px\">\n",
              "    <path d=\"M0 0h24v24H0V0z\" fill=\"none\"/>\n",
              "    <path d=\"M18.56 5.44l.94 2.06.94-2.06 2.06-.94-2.06-.94-.94-2.06-.94 2.06-2.06.94zm-11 1L8.5 8.5l.94-2.06 2.06-.94-2.06-.94L8.5 2.5l-.94 2.06-2.06.94zm10 10l.94 2.06.94-2.06 2.06-.94-2.06-.94-.94-2.06-.94 2.06-2.06.94z\"/><path d=\"M17.41 7.96l-1.37-1.37c-.4-.4-.92-.59-1.43-.59-.52 0-1.04.2-1.43.59L10.3 9.45l-7.72 7.72c-.78.78-.78 2.05 0 2.83L4 21.41c.39.39.9.59 1.41.59.51 0 1.02-.2 1.41-.59l7.78-7.78 2.81-2.81c.8-.78.8-2.07 0-2.86zM5.41 20L4 18.59l7.72-7.72 1.47 1.35L5.41 20z\"/>\n",
              "  </svg>\n",
              "      </button>\n",
              "\n",
              "\n",
              "\n",
              "    <div id=\"df-cdc591f6-7079-49c4-ac30-2d821230db95\">\n",
              "      <button class=\"colab-df-quickchart\" onclick=\"quickchart('df-cdc591f6-7079-49c4-ac30-2d821230db95')\"\n",
              "              title=\"Suggest charts.\"\n",
              "              style=\"display:none;\">\n",
              "\n",
              "<svg xmlns=\"http://www.w3.org/2000/svg\" height=\"24px\"viewBox=\"0 0 24 24\"\n",
              "     width=\"24px\">\n",
              "    <g>\n",
              "        <path d=\"M19 3H5c-1.1 0-2 .9-2 2v14c0 1.1.9 2 2 2h14c1.1 0 2-.9 2-2V5c0-1.1-.9-2-2-2zM9 17H7v-7h2v7zm4 0h-2V7h2v10zm4 0h-2v-4h2v4z\"/>\n",
              "    </g>\n",
              "</svg>\n",
              "      </button>\n",
              "    </div>\n",
              "\n",
              "<style>\n",
              "  .colab-df-quickchart {\n",
              "    background-color: #E8F0FE;\n",
              "    border: none;\n",
              "    border-radius: 50%;\n",
              "    cursor: pointer;\n",
              "    display: none;\n",
              "    fill: #1967D2;\n",
              "    height: 32px;\n",
              "    padding: 0 0 0 0;\n",
              "    width: 32px;\n",
              "  }\n",
              "\n",
              "  .colab-df-quickchart:hover {\n",
              "    background-color: #E2EBFA;\n",
              "    box-shadow: 0px 1px 2px rgba(60, 64, 67, 0.3), 0px 1px 3px 1px rgba(60, 64, 67, 0.15);\n",
              "    fill: #174EA6;\n",
              "  }\n",
              "\n",
              "  [theme=dark] .colab-df-quickchart {\n",
              "    background-color: #3B4455;\n",
              "    fill: #D2E3FC;\n",
              "  }\n",
              "\n",
              "  [theme=dark] .colab-df-quickchart:hover {\n",
              "    background-color: #434B5C;\n",
              "    box-shadow: 0px 1px 3px 1px rgba(0, 0, 0, 0.15);\n",
              "    filter: drop-shadow(0px 1px 2px rgba(0, 0, 0, 0.3));\n",
              "    fill: #FFFFFF;\n",
              "  }\n",
              "</style>\n",
              "\n",
              "    <script>\n",
              "      async function quickchart(key) {\n",
              "        const containerElement = document.querySelector('#' + key);\n",
              "        const charts = await google.colab.kernel.invokeFunction(\n",
              "            'suggestCharts', [key], {});\n",
              "      }\n",
              "    </script>\n",
              "\n",
              "\n",
              "      <script>\n",
              "\n",
              "function displayQuickchartButton(domScope) {\n",
              "  let quickchartButtonEl =\n",
              "    domScope.querySelector('#df-cdc591f6-7079-49c4-ac30-2d821230db95 button.colab-df-quickchart');\n",
              "  quickchartButtonEl.style.display =\n",
              "    google.colab.kernel.accessAllowed ? 'block' : 'none';\n",
              "}\n",
              "\n",
              "        displayQuickchartButton(document);\n",
              "      </script>\n",
              "      <style>\n",
              "    .colab-df-container {\n",
              "      display:flex;\n",
              "      flex-wrap:wrap;\n",
              "      gap: 12px;\n",
              "    }\n",
              "\n",
              "    .colab-df-convert {\n",
              "      background-color: #E8F0FE;\n",
              "      border: none;\n",
              "      border-radius: 50%;\n",
              "      cursor: pointer;\n",
              "      display: none;\n",
              "      fill: #1967D2;\n",
              "      height: 32px;\n",
              "      padding: 0 0 0 0;\n",
              "      width: 32px;\n",
              "    }\n",
              "\n",
              "    .colab-df-convert:hover {\n",
              "      background-color: #E2EBFA;\n",
              "      box-shadow: 0px 1px 2px rgba(60, 64, 67, 0.3), 0px 1px 3px 1px rgba(60, 64, 67, 0.15);\n",
              "      fill: #174EA6;\n",
              "    }\n",
              "\n",
              "    [theme=dark] .colab-df-convert {\n",
              "      background-color: #3B4455;\n",
              "      fill: #D2E3FC;\n",
              "    }\n",
              "\n",
              "    [theme=dark] .colab-df-convert:hover {\n",
              "      background-color: #434B5C;\n",
              "      box-shadow: 0px 1px 3px 1px rgba(0, 0, 0, 0.15);\n",
              "      filter: drop-shadow(0px 1px 2px rgba(0, 0, 0, 0.3));\n",
              "      fill: #FFFFFF;\n",
              "    }\n",
              "  </style>\n",
              "\n",
              "      <script>\n",
              "        const buttonEl =\n",
              "          document.querySelector('#df-4d2dd9e2-4551-436e-9f82-034d455be01c button.colab-df-convert');\n",
              "        buttonEl.style.display =\n",
              "          google.colab.kernel.accessAllowed ? 'block' : 'none';\n",
              "\n",
              "        async function convertToInteractive(key) {\n",
              "          const element = document.querySelector('#df-4d2dd9e2-4551-436e-9f82-034d455be01c');\n",
              "          const dataTable =\n",
              "            await google.colab.kernel.invokeFunction('convertToInteractive',\n",
              "                                                     [key], {});\n",
              "          if (!dataTable) return;\n",
              "\n",
              "          const docLinkHtml = 'Like what you see? Visit the ' +\n",
              "            '<a target=\"_blank\" href=https://colab.research.google.com/notebooks/data_table.ipynb>data table notebook</a>'\n",
              "            + ' to learn more about interactive tables.';\n",
              "          element.innerHTML = '';\n",
              "          dataTable['output_type'] = 'display_data';\n",
              "          await google.colab.output.renderOutput(dataTable, element);\n",
              "          const docLink = document.createElement('div');\n",
              "          docLink.innerHTML = docLinkHtml;\n",
              "          element.appendChild(docLink);\n",
              "        }\n",
              "      </script>\n",
              "    </div>\n",
              "  </div>\n"
            ]
          },
          "metadata": {},
          "execution_count": 2
        }
      ]
    },
    {
      "cell_type": "code",
      "source": [
        "def freq(x: pd.Series, plot=False):\n",
        "    contagem = x.value_counts()\n",
        "    percentual = round((x.value_counts() / x.shape[0]) * 100, 3)\n",
        "    res = pd.DataFrame({'values': x.unique(), 'n': contagem, 'perc': percentual})\n",
        "    if plot:\n",
        "        sns.countplot(x)\n",
        "        plt.show()\n",
        "    return res"
      ],
      "metadata": {
        "id": "yfU0DjBFKXN0"
      },
      "execution_count": null,
      "outputs": []
    },
    {
      "cell_type": "code",
      "source": [
        "# Combien ont survécu et n'ont pas survécu ?\n",
        "\n",
        "(titanic.Survived.value_counts() / titanic.shape[0]) * 100"
      ],
      "metadata": {
        "colab": {
          "base_uri": "https://localhost:8080/"
        },
        "id": "9jmHjM24Kgd-",
        "outputId": "a2bafbc8-6807-47cb-d535-34bb8fadc97f"
      },
      "execution_count": null,
      "outputs": [
        {
          "output_type": "execute_result",
          "data": {
            "text/plain": [
              "0    61.616162\n",
              "1    38.383838\n",
              "Name: Survived, dtype: float64"
            ]
          },
          "metadata": {},
          "execution_count": 4
        }
      ]
    },
    {
      "cell_type": "code",
      "source": [
        "freq(titanic.Survived, plot=True)"
      ],
      "metadata": {
        "colab": {
          "base_uri": "https://localhost:8080/",
          "height": 525
        },
        "id": "I_6JW6WsKnG_",
        "outputId": "6415c217-b93d-43a4-d701-639ed0d2cc66"
      },
      "execution_count": null,
      "outputs": [
        {
          "output_type": "display_data",
          "data": {
            "text/plain": [
              "<Figure size 640x480 with 1 Axes>"
            ],
            "image/png": "[encoded data removed]"
          },
          "metadata": {}
        },
        {
          "output_type": "execute_result",
          "data": {
            "text/plain": [
              "   values    n    perc\n",
              "0       0  549  61.616\n",
              "1       1  342  38.384"
            ],
            "text/html": [
              "\n",
              "\n",
              "  <div id=\"df-8c567532-be8b-435b-aed8-0ab22c290ec5\">\n",
              "    <div class=\"colab-df-container\">\n",
              "      <div>\n",
              "<style scoped>\n",
              "    .dataframe tbody tr th:only-of-type {\n",
              "        vertical-align: middle;\n",
              "    }\n",
              "\n",
              "    .dataframe tbody tr th {\n",
              "        vertical-align: top;\n",
              "    }\n",
              "\n",
              "    .dataframe thead th {\n",
              "        text-align: right;\n",
              "    }\n",
              "</style>\n",
              "<table border=\"1\" class=\"dataframe\">\n",
              "  <thead>\n",
              "    <tr style=\"text-align: right;\">\n",
              "      <th></th>\n",
              "      <th>values</th>\n",
              "      <th>n</th>\n",
              "      <th>perc</th>\n",
              "    </tr>\n",
              "  </thead>\n",
              "  <tbody>\n",
              "    <tr>\n",
              "      <th>0</th>\n",
              "      <td>0</td>\n",
              "      <td>549</td>\n",
              "      <td>61.616</td>\n",
              "    </tr>\n",
              "    <tr>\n",
              "      <th>1</th>\n",
              "      <td>1</td>\n",
              "      <td>342</td>\n",
              "      <td>38.384</td>\n",
              "    </tr>\n",
              "  </tbody>\n",
              "</table>\n",
              "</div>\n",
              "      <button class=\"colab-df-convert\" onclick=\"convertToInteractive('df-8c567532-be8b-435b-aed8-0ab22c290ec5')\"\n",
              "              title=\"Convert this dataframe to an interactive table.\"\n",
              "              style=\"display:none;\">\n",
              "\n",
              "  <svg xmlns=\"http://www.w3.org/2000/svg\" height=\"24px\"viewBox=\"0 0 24 24\"\n",
              "       width=\"24px\">\n",
              "    <path d=\"M0 0h24v24H0V0z\" fill=\"none\"/>\n",
              "    <path d=\"M18.56 5.44l.94 2.06.94-2.06 2.06-.94-2.06-.94-.94-2.06-.94 2.06-2.06.94zm-11 1L8.5 8.5l.94-2.06 2.06-.94-2.06-.94L8.5 2.5l-.94 2.06-2.06.94zm10 10l.94 2.06.94-2.06 2.06-.94-2.06-.94-.94-2.06-.94 2.06-2.06.94z\"/><path d=\"M17.41 7.96l-1.37-1.37c-.4-.4-.92-.59-1.43-.59-.52 0-1.04.2-1.43.59L10.3 9.45l-7.72 7.72c-.78.78-.78 2.05 0 2.83L4 21.41c.39.39.9.59 1.41.59.51 0 1.02-.2 1.41-.59l7.78-7.78 2.81-2.81c.8-.78.8-2.07 0-2.86zM5.41 20L4 18.59l7.72-7.72 1.47 1.35L5.41 20z\"/>\n",
              "  </svg>\n",
              "      </button>\n",
              "\n",
              "\n",
              "\n",
              "    <div id=\"df-d146a8a9-402c-4b05-b785-284271e00428\">\n",
              "      <button class=\"colab-df-quickchart\" onclick=\"quickchart('df-d146a8a9-402c-4b05-b785-284271e00428')\"\n",
              "              title=\"Suggest charts.\"\n",
              "              style=\"display:none;\">\n",
              "\n",
              "<svg xmlns=\"http://www.w3.org/2000/svg\" height=\"24px\"viewBox=\"0 0 24 24\"\n",
              "     width=\"24px\">\n",
              "    <g>\n",
              "        <path d=\"M19 3H5c-1.1 0-2 .9-2 2v14c0 1.1.9 2 2 2h14c1.1 0 2-.9 2-2V5c0-1.1-.9-2-2-2zM9 17H7v-7h2v7zm4 0h-2V7h2v10zm4 0h-2v-4h2v4z\"/>\n",
              "    </g>\n",
              "</svg>\n",
              "      </button>\n",
              "    </div>\n",
              "\n",
              "<style>\n",
              "  .colab-df-quickchart {\n",
              "    background-color: #E8F0FE;\n",
              "    border: none;\n",
              "    border-radius: 50%;\n",
              "    cursor: pointer;\n",
              "    display: none;\n",
              "    fill: #1967D2;\n",
              "    height: 32px;\n",
              "    padding: 0 0 0 0;\n",
              "    width: 32px;\n",
              "  }\n",
              "\n",
              "  .colab-df-quickchart:hover {\n",
              "    background-color: #E2EBFA;\n",
              "    box-shadow: 0px 1px 2px rgba(60, 64, 67, 0.3), 0px 1px 3px 1px rgba(60, 64, 67, 0.15);\n",
              "    fill: #174EA6;\n",
              "  }\n",
              "\n",
              "  [theme=dark] .colab-df-quickchart {\n",
              "    background-color: #3B4455;\n",
              "    fill: #D2E3FC;\n",
              "  }\n",
              "\n",
              "  [theme=dark] .colab-df-quickchart:hover {\n",
              "    background-color: #434B5C;\n",
              "    box-shadow: 0px 1px 3px 1px rgba(0, 0, 0, 0.15);\n",
              "    filter: drop-shadow(0px 1px 2px rgba(0, 0, 0, 0.3));\n",
              "    fill: #FFFFFF;\n",
              "  }\n",
              "</style>\n",
              "\n",
              "    <script>\n",
              "      async function quickchart(key) {\n",
              "        const containerElement = document.querySelector('#' + key);\n",
              "        const charts = await google.colab.kernel.invokeFunction(\n",
              "            'suggestCharts', [key], {});\n",
              "      }\n",
              "    </script>\n",
              "\n",
              "\n",
              "      <script>\n",
              "\n",
              "function displayQuickchartButton(domScope) {\n",
              "  let quickchartButtonEl =\n",
              "    domScope.querySelector('#df-d146a8a9-402c-4b05-b785-284271e00428 button.colab-df-quickchart');\n",
              "  quickchartButtonEl.style.display =\n",
              "    google.colab.kernel.accessAllowed ? 'block' : 'none';\n",
              "}\n",
              "\n",
              "        displayQuickchartButton(document);\n",
              "      </script>\n",
              "      <style>\n",
              "    .colab-df-container {\n",
              "      display:flex;\n",
              "      flex-wrap:wrap;\n",
              "      gap: 12px;\n",
              "    }\n",
              "\n",
              "    .colab-df-convert {\n",
              "      background-color: #E8F0FE;\n",
              "      border: none;\n",
              "      border-radius: 50%;\n",
              "      cursor: pointer;\n",
              "      display: none;\n",
              "      fill: #1967D2;\n",
              "      height: 32px;\n",
              "      padding: 0 0 0 0;\n",
              "      width: 32px;\n",
              "    }\n",
              "\n",
              "    .colab-df-convert:hover {\n",
              "      background-color: #E2EBFA;\n",
              "      box-shadow: 0px 1px 2px rgba(60, 64, 67, 0.3), 0px 1px 3px 1px rgba(60, 64, 67, 0.15);\n",
              "      fill: #174EA6;\n",
              "    }\n",
              "\n",
              "    [theme=dark] .colab-df-convert {\n",
              "      background-color: #3B4455;\n",
              "      fill: #D2E3FC;\n",
              "    }\n",
              "\n",
              "    [theme=dark] .colab-df-convert:hover {\n",
              "      background-color: #434B5C;\n",
              "      box-shadow: 0px 1px 3px 1px rgba(0, 0, 0, 0.15);\n",
              "      filter: drop-shadow(0px 1px 2px rgba(0, 0, 0, 0.3));\n",
              "      fill: #FFFFFF;\n",
              "    }\n",
              "  </style>\n",
              "\n",
              "      <script>\n",
              "        const buttonEl =\n",
              "          document.querySelector('#df-8c567532-be8b-435b-aed8-0ab22c290ec5 button.colab-df-convert');\n",
              "        buttonEl.style.display =\n",
              "          google.colab.kernel.accessAllowed ? 'block' : 'none';\n",
              "\n",
              "        async function convertToInteractive(key) {\n",
              "          const element = document.querySelector('#df-8c567532-be8b-435b-aed8-0ab22c290ec5');\n",
              "          const dataTable =\n",
              "            await google.colab.kernel.invokeFunction('convertToInteractive',\n",
              "                                                     [key], {});\n",
              "          if (!dataTable) return;\n",
              "\n",
              "          const docLinkHtml = 'Like what you see? Visit the ' +\n",
              "            '<a target=\"_blank\" href=https://colab.research.google.com/notebooks/data_table.ipynb>data table notebook</a>'\n",
              "            + ' to learn more about interactive tables.';\n",
              "          element.innerHTML = '';\n",
              "          dataTable['output_type'] = 'display_data';\n",
              "          await google.colab.output.renderOutput(dataTable, element);\n",
              "          const docLink = document.createElement('div');\n",
              "          docLink.innerHTML = docLinkHtml;\n",
              "          element.appendChild(docLink);\n",
              "        }\n",
              "      </script>\n",
              "    </div>\n",
              "  </div>\n"
            ]
          },
          "metadata": {},
          "execution_count": 5
        }
      ]
    },
    {
      "cell_type": "code",
      "source": [
        "freq(titanic.Pclass, plot=True)"
      ],
      "metadata": {
        "colab": {
          "base_uri": "https://localhost:8080/",
          "height": 556
        },
        "id": "oH9Z7MAGKr1D",
        "outputId": "766fb1d0-54b3-4955-b496-d10726a32cff"
      },
      "execution_count": null,
      "outputs": [
        {
          "output_type": "display_data",
          "data": {
            "text/plain": [
              "<Figure size 640x480 with 1 Axes>"
            ],
            "image/png": "[encoded data removed]"
          },
          "metadata": {}
        },
        {
          "output_type": "execute_result",
          "data": {
            "text/plain": [
              "   values    n    perc\n",
              "3       3  491  55.107\n",
              "1       1  216  24.242\n",
              "2       2  184  20.651"
            ],
            "text/html": [
              "\n",
              "\n",
              "  <div id=\"df-b9bde85f-d92e-4020-b054-b5c2ea5332cb\">\n",
              "    <div class=\"colab-df-container\">\n",
              "      <div>\n",
              "<style scoped>\n",
              "    .dataframe tbody tr th:only-of-type {\n",
              "        vertical-align: middle;\n",
              "    }\n",
              "\n",
              "    .dataframe tbody tr th {\n",
              "        vertical-align: top;\n",
              "    }\n",
              "\n",
              "    .dataframe thead th {\n",
              "        text-align: right;\n",
              "    }\n",
              "</style>\n",
              "<table border=\"1\" class=\"dataframe\">\n",
              "  <thead>\n",
              "    <tr style=\"text-align: right;\">\n",
              "      <th></th>\n",
              "      <th>values</th>\n",
              "      <th>n</th>\n",
              "      <th>perc</th>\n",
              "    </tr>\n",
              "  </thead>\n",
              "  <tbody>\n",
              "    <tr>\n",
              "      <th>3</th>\n",
              "      <td>3</td>\n",
              "      <td>491</td>\n",
              "      <td>55.107</td>\n",
              "    </tr>\n",
              "    <tr>\n",
              "      <th>1</th>\n",
              "      <td>1</td>\n",
              "      <td>216</td>\n",
              "      <td>24.242</td>\n",
              "    </tr>\n",
              "    <tr>\n",
              "      <th>2</th>\n",
              "      <td>2</td>\n",
              "      <td>184</td>\n",
              "      <td>20.651</td>\n",
              "    </tr>\n",
              "  </tbody>\n",
              "</table>\n",
              "</div>\n",
              "      <button class=\"colab-df-convert\" onclick=\"convertToInteractive('df-b9bde85f-d92e-4020-b054-b5c2ea5332cb')\"\n",
              "              title=\"Convert this dataframe to an interactive table.\"\n",
              "              style=\"display:none;\">\n",
              "\n",
              "  <svg xmlns=\"http://www.w3.org/2000/svg\" height=\"24px\"viewBox=\"0 0 24 24\"\n",
              "       width=\"24px\">\n",
              "    <path d=\"M0 0h24v24H0V0z\" fill=\"none\"/>\n",
              "    <path d=\"M18.56 5.44l.94 2.06.94-2.06 2.06-.94-2.06-.94-.94-2.06-.94 2.06-2.06.94zm-11 1L8.5 8.5l.94-2.06 2.06-.94-2.06-.94L8.5 2.5l-.94 2.06-2.06.94zm10 10l.94 2.06.94-2.06 2.06-.94-2.06-.94-.94-2.06-.94 2.06-2.06.94z\"/><path d=\"M17.41 7.96l-1.37-1.37c-.4-.4-.92-.59-1.43-.59-.52 0-1.04.2-1.43.59L10.3 9.45l-7.72 7.72c-.78.78-.78 2.05 0 2.83L4 21.41c.39.39.9.59 1.41.59.51 0 1.02-.2 1.41-.59l7.78-7.78 2.81-2.81c.8-.78.8-2.07 0-2.86zM5.41 20L4 18.59l7.72-7.72 1.47 1.35L5.41 20z\"/>\n",
              "  </svg>\n",
              "      </button>\n",
              "\n",
              "\n",
              "\n",
              "    <div id=\"df-6989f70d-3410-44e8-a668-2d501a96167a\">\n",
              "      <button class=\"colab-df-quickchart\" onclick=\"quickchart('df-6989f70d-3410-44e8-a668-2d501a96167a')\"\n",
              "              title=\"Suggest charts.\"\n",
              "              style=\"display:none;\">\n",
              "\n",
              "<svg xmlns=\"http://www.w3.org/2000/svg\" height=\"24px\"viewBox=\"0 0 24 24\"\n",
              "     width=\"24px\">\n",
              "    <g>\n",
              "        <path d=\"M19 3H5c-1.1 0-2 .9-2 2v14c0 1.1.9 2 2 2h14c1.1 0 2-.9 2-2V5c0-1.1-.9-2-2-2zM9 17H7v-7h2v7zm4 0h-2V7h2v10zm4 0h-2v-4h2v4z\"/>\n",
              "    </g>\n",
              "</svg>\n",
              "      </button>\n",
              "    </div>\n",
              "\n",
              "<style>\n",
              "  .colab-df-quickchart {\n",
              "    background-color: #E8F0FE;\n",
              "    border: none;\n",
              "    border-radius: 50%;\n",
              "    cursor: pointer;\n",
              "    display: none;\n",
              "    fill: #1967D2;\n",
              "    height: 32px;\n",
              "    padding: 0 0 0 0;\n",
              "    width: 32px;\n",
              "  }\n",
              "\n",
              "  .colab-df-quickchart:hover {\n",
              "    background-color: #E2EBFA;\n",
              "    box-shadow: 0px 1px 2px rgba(60, 64, 67, 0.3), 0px 1px 3px 1px rgba(60, 64, 67, 0.15);\n",
              "    fill: #174EA6;\n",
              "  }\n",
              "\n",
              "  [theme=dark] .colab-df-quickchart {\n",
              "    background-color: #3B4455;\n",
              "    fill: #D2E3FC;\n",
              "  }\n",
              "\n",
              "  [theme=dark] .colab-df-quickchart:hover {\n",
              "    background-color: #434B5C;\n",
              "    box-shadow: 0px 1px 3px 1px rgba(0, 0, 0, 0.15);\n",
              "    filter: drop-shadow(0px 1px 2px rgba(0, 0, 0, 0.3));\n",
              "    fill: #FFFFFF;\n",
              "  }\n",
              "</style>\n",
              "\n",
              "    <script>\n",
              "      async function quickchart(key) {\n",
              "        const containerElement = document.querySelector('#' + key);\n",
              "        const charts = await google.colab.kernel.invokeFunction(\n",
              "            'suggestCharts', [key], {});\n",
              "      }\n",
              "    </script>\n",
              "\n",
              "\n",
              "      <script>\n",
              "\n",
              "function displayQuickchartButton(domScope) {\n",
              "  let quickchartButtonEl =\n",
              "    domScope.querySelector('#df-6989f70d-3410-44e8-a668-2d501a96167a button.colab-df-quickchart');\n",
              "  quickchartButtonEl.style.display =\n",
              "    google.colab.kernel.accessAllowed ? 'block' : 'none';\n",
              "}\n",
              "\n",
              "        displayQuickchartButton(document);\n",
              "      </script>\n",
              "      <style>\n",
              "    .colab-df-container {\n",
              "      display:flex;\n",
              "      flex-wrap:wrap;\n",
              "      gap: 12px;\n",
              "    }\n",
              "\n",
              "    .colab-df-convert {\n",
              "      background-color: #E8F0FE;\n",
              "      border: none;\n",
              "      border-radius: 50%;\n",
              "      cursor: pointer;\n",
              "      display: none;\n",
              "      fill: #1967D2;\n",
              "      height: 32px;\n",
              "      padding: 0 0 0 0;\n",
              "      width: 32px;\n",
              "    }\n",
              "\n",
              "    .colab-df-convert:hover {\n",
              "      background-color: #E2EBFA;\n",
              "      box-shadow: 0px 1px 2px rgba(60, 64, 67, 0.3), 0px 1px 3px 1px rgba(60, 64, 67, 0.15);\n",
              "      fill: #174EA6;\n",
              "    }\n",
              "\n",
              "    [theme=dark] .colab-df-convert {\n",
              "      background-color: #3B4455;\n",
              "      fill: #D2E3FC;\n",
              "    }\n",
              "\n",
              "    [theme=dark] .colab-df-convert:hover {\n",
              "      background-color: #434B5C;\n",
              "      box-shadow: 0px 1px 3px 1px rgba(0, 0, 0, 0.15);\n",
              "      filter: drop-shadow(0px 1px 2px rgba(0, 0, 0, 0.3));\n",
              "      fill: #FFFFFF;\n",
              "    }\n",
              "  </style>\n",
              "\n",
              "      <script>\n",
              "        const buttonEl =\n",
              "          document.querySelector('#df-b9bde85f-d92e-4020-b054-b5c2ea5332cb button.colab-df-convert');\n",
              "        buttonEl.style.display =\n",
              "          google.colab.kernel.accessAllowed ? 'block' : 'none';\n",
              "\n",
              "        async function convertToInteractive(key) {\n",
              "          const element = document.querySelector('#df-b9bde85f-d92e-4020-b054-b5c2ea5332cb');\n",
              "          const dataTable =\n",
              "            await google.colab.kernel.invokeFunction('convertToInteractive',\n",
              "                                                     [key], {});\n",
              "          if (!dataTable) return;\n",
              "\n",
              "          const docLinkHtml = 'Like what you see? Visit the ' +\n",
              "            '<a target=\"_blank\" href=https://colab.research.google.com/notebooks/data_table.ipynb>data table notebook</a>'\n",
              "            + ' to learn more about interactive tables.';\n",
              "          element.innerHTML = '';\n",
              "          dataTable['output_type'] = 'display_data';\n",
              "          await google.colab.output.renderOutput(dataTable, element);\n",
              "          const docLink = document.createElement('div');\n",
              "          docLink.innerHTML = docLinkHtml;\n",
              "          element.appendChild(docLink);\n",
              "        }\n",
              "      </script>\n",
              "    </div>\n",
              "  </div>\n"
            ]
          },
          "metadata": {},
          "execution_count": 6
        }
      ]
    },
    {
      "cell_type": "code",
      "source": [
        "titanic.Age.describe()"
      ],
      "metadata": {
        "colab": {
          "base_uri": "https://localhost:8080/"
        },
        "id": "n9XUJVyNK0LM",
        "outputId": "60ebc04d-052b-4e07-8674-6c32957f68d9"
      },
      "execution_count": null,
      "outputs": [
        {
          "output_type": "execute_result",
          "data": {
            "text/plain": [
              "count    714.000000\n",
              "mean      29.699118\n",
              "std       14.526497\n",
              "min        0.420000\n",
              "25%       20.125000\n",
              "50%       28.000000\n",
              "75%       38.000000\n",
              "max       80.000000\n",
              "Name: Age, dtype: float64"
            ]
          },
          "metadata": {},
          "execution_count": 7
        }
      ]
    },
    {
      "cell_type": "code",
      "source": [
        "sns.boxplot(x='Sex', y='Age', data=titanic)\n",
        "plt.title('Drépartition par âge selon le sexe')\n",
        "plt.show()"
      ],
      "metadata": {
        "colab": {
          "base_uri": "https://localhost:8080/",
          "height": 472
        },
        "id": "wobi3UceK9ps",
        "outputId": "d9549ba0-949f-4dc9-af91-b60678144ed4"
      },
      "execution_count": null,
      "outputs": [
        {
          "output_type": "display_data",
          "data": {
            "text/plain": [
              "<Figure size 640x480 with 1 Axes>"
            ],
            "image/png": "[encoded data removed]"
          },
          "metadata": {}
        }
      ]
    },
    {
      "cell_type": "markdown",
      "source": [
        "## Modélisation\n",
        "Estimons maintenant une régression logistique pour étudier les chances de survie des personnes en fonction de 3 prédicteurs :\n",
        "\n",
        "\n",
        "* l'âge\n",
        "* la classe dans laquelle la personne voyageait et\n",
        "* le sexe"
      ],
      "metadata": {
        "id": "O31f5QCJLL_P"
      }
    },
    {
      "cell_type": "code",
      "source": [
        "#transforme la classe en catégorielle\n",
        "\n",
        "titanic['Pclass'] = titanic['Pclass'].astype('category')"
      ],
      "metadata": {
        "id": "tWqHPg0yLabn"
      },
      "execution_count": null,
      "outputs": []
    },
    {
      "cell_type": "code",
      "source": [
        "#package stats model : https://www.statsmodels.org/dev/examples/notebooks/generated/glm_formula.html\n",
        "# https://www.statsmodels.org/stable/index.html\n",
        "\n",
        "modelo = smf.glm(formula='Survived ~ Age + Pclass + Sex', data=titanic,\n",
        "                family = sm.families.Binomial()).fit()\n",
        "print(modelo.summary())"
      ],
      "metadata": {
        "colab": {
          "base_uri": "https://localhost:8080/"
        },
        "id": "op8Aa4XNLdgA",
        "outputId": "991035d0-c0a8-485d-8482-d08d9cc4eee7"
      },
      "execution_count": null,
      "outputs": [
        {
          "output_type": "stream",
          "name": "stdout",
          "text": [
            "                 Generalized Linear Model Regression Results                  \n",
            "==============================================================================\n",
            "Dep. Variable:               Survived   No. Observations:                  714\n",
            "Model:                            GLM   Df Residuals:                      709\n",
            "Model Family:                Binomial   Df Model:                            4\n",
            "Link Function:                  Logit   Scale:                          1.0000\n",
            "Method:                          IRLS   Log-Likelihood:                -323.64\n",
            "Date:                Thu, 17 Aug 2023   Deviance:                       647.28\n",
            "Time:                        14:13:27   Pearson chi2:                     767.\n",
            "No. Iterations:                     5   Pseudo R-squ. (CS):             0.3587\n",
            "Covariance Type:            nonrobust                                         \n",
            "===============================================================================\n",
            "                  coef    std err          z      P>|z|      [0.025      0.975]\n",
            "-------------------------------------------------------------------------------\n",
            "Intercept       3.7770      0.401      9.416      0.000       2.991       4.563\n",
            "Pclass[T.2]    -1.3098      0.278     -4.710      0.000      -1.855      -0.765\n",
            "Pclass[T.3]    -2.5806      0.281     -9.169      0.000      -3.132      -2.029\n",
            "Sex[T.male]    -2.5228      0.207    -12.164      0.000      -2.929      -2.116\n",
            "Age            -0.0370      0.008     -4.831      0.000      -0.052      -0.022\n",
            "===============================================================================\n"
          ]
        }
      ]
    },
    {
      "cell_type": "markdown",
      "source": [
        "Maintenant, interprétons les résultats du modèle. Les logits estimés ne peuvent être interprétés qu'en termes d'augmentation ou de diminution des chances de survie car ils sont en échelle logarithmique. Tous les coefficients estimés étaient statistiquement significatifs (valeur de p inférieure à 0,05 avec un niveau de confiance de 95 %).\n",
        "\n",
        "Les personnes voyageant en deuxième classe ont moins de chances de survie que celles voyageant en première classe. Ceux qui voyagent en troisième classe ont encore moins de chances. Les hommes ont moins de chances de survivre que les femmes. Plus vous êtes âgé, plus vos chances de survie sont faibles. Ce sont les intuitions générales du modèle.\n",
        "\n",
        "Pour obtenir des coefficients plus interprétables, nous devons effectuer une transformation. En utilisant $e^\\beta$, nous obtenons les probabilités relatives"
      ],
      "metadata": {
        "id": "dI67-cFTMSCL"
      }
    },
    {
      "cell_type": "code",
      "source": [
        "print(np.exp(modelo.params[1:]))"
      ],
      "metadata": {
        "colab": {
          "base_uri": "https://localhost:8080/"
        },
        "id": "ens1vp2iMwz4",
        "outputId": "3b5d7d7b-3b63-437e-d2b9-bdb8eac1f0a3"
      },
      "execution_count": null,
      "outputs": [
        {
          "output_type": "stream",
          "name": "stdout",
          "text": [
            "Pclass[T.2]    0.269874\n",
            "Pclass[T.3]    0.075727\n",
            "Sex[T.male]    0.080236\n",
            "Age            0.963690\n",
            "dtype: float64\n"
          ]
        }
      ]
    },
    {
      "cell_type": "markdown",
      "source": [
        "Les personnes voyageant en deuxième classe avaient 0,27 des chances de survie des personnes en première classe. Les personnes de troisième classe avaient 0,076 de chances que les personnes de première classe avaient. Les hommes avaient 0,08 autant de chances que les femmes.\n",
        "\n",
        "Pour chaque année de survie supplémentaire, l'individu a 0,96 des chances d'un autre individu avec un an de moins.\n",
        "\n",
        "Nous pouvons également générer les mêmes données en pourcentages relatifs de chances pour les comparer et obtenir une interprétation similaire à l'interprétation de la régression linéaire, mais en termes de chances."
      ],
      "metadata": {
        "id": "oqz7WQrxNAZW"
      }
    },
    {
      "cell_type": "code",
      "source": [
        "(np.exp(modelo.params[1:]) - 1) * 100"
      ],
      "metadata": {
        "colab": {
          "base_uri": "https://localhost:8080/"
        },
        "id": "xZTRdzZZNVwv",
        "outputId": "f045500d-5e75-48f3-fe96-87c6cb905fbe"
      },
      "execution_count": null,
      "outputs": [
        {
          "output_type": "execute_result",
          "data": {
            "text/plain": [
              "Pclass[T.2]   -73.012578\n",
              "Pclass[T.3]   -92.427336\n",
              "Sex[T.male]   -91.976383\n",
              "Age            -3.630967\n",
              "dtype: float64"
            ]
          },
          "metadata": {},
          "execution_count": 12
        }
      ]
    },
    {
      "cell_type": "markdown",
      "source": [
        "Maintenant, c'est facile. Les personnes de seconde classe ont 73 % de chances de survie en moins que les personnes de première classe. Les personnes de troisième classe ont 92 % moins de chances de survivre que les personnes de première classe. Les hommes ont 92 % moins de chances de survivre que les femmes.\n",
        "\n",
        "Nous allons maintenant refaire le modèle à l'aide de scikit-learn pour faciliter l'obtention des métriques d'ajustement."
      ],
      "metadata": {
        "id": "uXtSsoy6Ncqp"
      }
    },
    {
      "cell_type": "code",
      "source": [
        "model = LogisticRegression(penalty='none', solver='newton-cg')\n",
        "baseline_df = titanic[['Survived', 'Pclass', 'Sex', 'Age']].dropna()\n",
        "y = baseline_df.Survived#variable target\n",
        "X = pd.get_dummies(baseline_df[['Pclass', 'Sex', 'Age']], drop_first=True)\n",
        "print(X)"
      ],
      "metadata": {
        "colab": {
          "base_uri": "https://localhost:8080/"
        },
        "id": "oIwLNFhjNdp-",
        "outputId": "e214957a-8243-4f52-9734-1ea9a2025a70"
      },
      "execution_count": null,
      "outputs": [
        {
          "output_type": "stream",
          "name": "stdout",
          "text": [
            "      Age  Pclass_2  Pclass_3  Sex_male\n",
            "0    22.0         0         1         1\n",
            "1    38.0         0         0         0\n",
            "2    26.0         0         1         0\n",
            "3    35.0         0         0         0\n",
            "4    35.0         0         1         1\n",
            "..    ...       ...       ...       ...\n",
            "885  39.0         0         1         0\n",
            "886  27.0         1         0         1\n",
            "887  19.0         0         0         0\n",
            "889  26.0         0         0         1\n",
            "890  32.0         0         1         1\n",
            "\n",
            "[714 rows x 4 columns]\n"
          ]
        }
      ]
    },
    {
      "cell_type": "code",
      "source": [
        "model.fit(X, y)"
      ],
      "metadata": {
        "colab": {
          "base_uri": "https://localhost:8080/",
          "height": 109
        },
        "id": "PXJ-WBe9Nyh4",
        "outputId": "e2cc3660-494e-49be-fdd9-0327ac9cfa49"
      },
      "execution_count": null,
      "outputs": [
        {
          "output_type": "stream",
          "name": "stderr",
          "text": [
            "/usr/local/lib/python3.10/dist-packages/sklearn/linear_model/_logistic.py:1173: FutureWarning: `penalty='none'`has been deprecated in 1.2 and will be removed in 1.4. To keep the past behaviour, set `penalty=None`.\n",
            "  warnings.warn(\n"
          ]
        },
        {
          "output_type": "execute_result",
          "data": {
            "text/plain": [
              "LogisticRegression(penalty='none', solver='newton-cg')"
            ],
            "text/html": [
              "<style>#sk-container-id-1 {color: black;background-color: white;}#sk-container-id-1 pre{padding: 0;}#sk-container-id-1 div.sk-toggleable {background-color: white;}#sk-container-id-1 label.sk-toggleable__label {cursor: pointer;display: block;width: 100%;margin-bottom: 0;padding: 0.3em;box-sizing: border-box;text-align: center;}#sk-container-id-1 label.sk-toggleable__label-arrow:before {content: \"▸\";float: left;margin-right: 0.25em;color: #696969;}#sk-container-id-1 label.sk-toggleable__label-arrow:hover:before {color: black;}#sk-container-id-1 div.sk-estimator:hover label.sk-toggleable__label-arrow:before {color: black;}#sk-container-id-1 div.sk-toggleable__content {max-height: 0;max-width: 0;overflow: hidden;text-align: left;background-color: #f0f8ff;}#sk-container-id-1 div.sk-toggleable__content pre {margin: 0.2em;color: black;border-radius: 0.25em;background-color: #f0f8ff;}#sk-container-id-1 input.sk-toggleable__control:checked~div.sk-toggleable__content {max-height: 200px;max-width: 100%;overflow: auto;}#sk-container-id-1 input.sk-toggleable__control:checked~label.sk-toggleable__label-arrow:before {content: \"▾\";}#sk-container-id-1 div.sk-estimator input.sk-toggleable__control:checked~label.sk-toggleable__label {background-color: #d4ebff;}#sk-container-id-1 div.sk-label input.sk-toggleable__control:checked~label.sk-toggleable__label {background-color: #d4ebff;}#sk-container-id-1 input.sk-hidden--visually {border: 0;clip: rect(1px 1px 1px 1px);clip: rect(1px, 1px, 1px, 1px);height: 1px;margin: -1px;overflow: hidden;padding: 0;position: absolute;width: 1px;}#sk-container-id-1 div.sk-estimator {font-family: monospace;background-color: #f0f8ff;border: 1px dotted black;border-radius: 0.25em;box-sizing: border-box;margin-bottom: 0.5em;}#sk-container-id-1 div.sk-estimator:hover {background-color: #d4ebff;}#sk-container-id-1 div.sk-parallel-item::after {content: \"\";width: 100%;border-bottom: 1px solid gray;flex-grow: 1;}#sk-container-id-1 div.sk-label:hover label.sk-toggleable__label {background-color: #d4ebff;}#sk-container-id-1 div.sk-serial::before {content: \"\";position: absolute;border-left: 1px solid gray;box-sizing: border-box;top: 0;bottom: 0;left: 50%;z-index: 0;}#sk-container-id-1 div.sk-serial {display: flex;flex-direction: column;align-items: center;background-color: white;padding-right: 0.2em;padding-left: 0.2em;position: relative;}#sk-container-id-1 div.sk-item {position: relative;z-index: 1;}#sk-container-id-1 div.sk-parallel {display: flex;align-items: stretch;justify-content: center;background-color: white;position: relative;}#sk-container-id-1 div.sk-item::before, #sk-container-id-1 div.sk-parallel-item::before {content: \"\";position: absolute;border-left: 1px solid gray;box-sizing: border-box;top: 0;bottom: 0;left: 50%;z-index: -1;}#sk-container-id-1 div.sk-parallel-item {display: flex;flex-direction: column;z-index: 1;position: relative;background-color: white;}#sk-container-id-1 div.sk-parallel-item:first-child::after {align-self: flex-end;width: 50%;}#sk-container-id-1 div.sk-parallel-item:last-child::after {align-self: flex-start;width: 50%;}#sk-container-id-1 div.sk-parallel-item:only-child::after {width: 0;}#sk-container-id-1 div.sk-dashed-wrapped {border: 1px dashed gray;margin: 0 0.4em 0.5em 0.4em;box-sizing: border-box;padding-bottom: 0.4em;background-color: white;}#sk-container-id-1 div.sk-label label {font-family: monospace;font-weight: bold;display: inline-block;line-height: 1.2em;}#sk-container-id-1 div.sk-label-container {text-align: center;}#sk-container-id-1 div.sk-container {/* jupyter's `normalize.less` sets `[hidden] { display: none; }` but bootstrap.min.css set `[hidden] { display: none !important; }` so we also need the `!important` here to be able to override the default hidden behavior on the sphinx rendered scikit-learn.org. See: https://github.com/scikit-learn/scikit-learn/issues/21755 */display: inline-block !important;position: relative;}#sk-container-id-1 div.sk-text-repr-fallback {display: none;}</style><div id=\"sk-container-id-1\" class=\"sk-top-container\"><div class=\"sk-text-repr-fallback\"><pre>LogisticRegression(penalty=&#x27;none&#x27;, solver=&#x27;newton-cg&#x27;)</pre><b>In a Jupyter environment, please rerun this cell to show the HTML representation or trust the notebook. <br />On GitHub, the HTML representation is unable to render, please try loading this page with nbviewer.org.</b></div><div class=\"sk-container\" hidden><div class=\"sk-item\"><div class=\"sk-estimator sk-toggleable\"><input class=\"sk-toggleable__control sk-hidden--visually\" id=\"sk-estimator-id-1\" type=\"checkbox\" checked><label for=\"sk-estimator-id-1\" class=\"sk-toggleable__label sk-toggleable__label-arrow\">LogisticRegression</label><div class=\"sk-toggleable__content\"><pre>LogisticRegression(penalty=&#x27;none&#x27;, solver=&#x27;newton-cg&#x27;)</pre></div></div></div></div></div>"
            ]
          },
          "metadata": {},
          "execution_count": 14
        }
      ]
    },
    {
      "cell_type": "code",
      "source": [
        "LogisticRegression(C=1.0, class_weight=None, dual=False, fit_intercept=True,\n",
        "                   intercept_scaling=1, l1_ratio=None, max_iter=100,\n",
        "                   multi_class='warn', n_jobs=None, penalty='none',\n",
        "                   random_state=None, solver='newton-cg', tol=0.0001, verbose=0,\n",
        "                   warm_start=False)"
      ],
      "metadata": {
        "colab": {
          "base_uri": "https://localhost:8080/",
          "height": 75
        },
        "id": "XLVRRnHRNzmH",
        "outputId": "515e51a2-5b29-4258-e518-9bba46249113"
      },
      "execution_count": null,
      "outputs": [
        {
          "output_type": "execute_result",
          "data": {
            "text/plain": [
              "LogisticRegression(multi_class='warn', penalty='none', solver='newton-cg')"
            ],
            "text/html": [
              "<style>#sk-container-id-2 {color: black;background-color: white;}#sk-container-id-2 pre{padding: 0;}#sk-container-id-2 div.sk-toggleable {background-color: white;}#sk-container-id-2 label.sk-toggleable__label {cursor: pointer;display: block;width: 100%;margin-bottom: 0;padding: 0.3em;box-sizing: border-box;text-align: center;}#sk-container-id-2 label.sk-toggleable__label-arrow:before {content: \"▸\";float: left;margin-right: 0.25em;color: #696969;}#sk-container-id-2 label.sk-toggleable__label-arrow:hover:before {color: black;}#sk-container-id-2 div.sk-estimator:hover label.sk-toggleable__label-arrow:before {color: black;}#sk-container-id-2 div.sk-toggleable__content {max-height: 0;max-width: 0;overflow: hidden;text-align: left;background-color: #f0f8ff;}#sk-container-id-2 div.sk-toggleable__content pre {margin: 0.2em;color: black;border-radius: 0.25em;background-color: #f0f8ff;}#sk-container-id-2 input.sk-toggleable__control:checked~div.sk-toggleable__content {max-height: 200px;max-width: 100%;overflow: auto;}#sk-container-id-2 input.sk-toggleable__control:checked~label.sk-toggleable__label-arrow:before {content: \"▾\";}#sk-container-id-2 div.sk-estimator input.sk-toggleable__control:checked~label.sk-toggleable__label {background-color: #d4ebff;}#sk-container-id-2 div.sk-label input.sk-toggleable__control:checked~label.sk-toggleable__label {background-color: #d4ebff;}#sk-container-id-2 input.sk-hidden--visually {border: 0;clip: rect(1px 1px 1px 1px);clip: rect(1px, 1px, 1px, 1px);height: 1px;margin: -1px;overflow: hidden;padding: 0;position: absolute;width: 1px;}#sk-container-id-2 div.sk-estimator {font-family: monospace;background-color: #f0f8ff;border: 1px dotted black;border-radius: 0.25em;box-sizing: border-box;margin-bottom: 0.5em;}#sk-container-id-2 div.sk-estimator:hover {background-color: #d4ebff;}#sk-container-id-2 div.sk-parallel-item::after {content: \"\";width: 100%;border-bottom: 1px solid gray;flex-grow: 1;}#sk-container-id-2 div.sk-label:hover label.sk-toggleable__label {background-color: #d4ebff;}#sk-container-id-2 div.sk-serial::before {content: \"\";position: absolute;border-left: 1px solid gray;box-sizing: border-box;top: 0;bottom: 0;left: 50%;z-index: 0;}#sk-container-id-2 div.sk-serial {display: flex;flex-direction: column;align-items: center;background-color: white;padding-right: 0.2em;padding-left: 0.2em;position: relative;}#sk-container-id-2 div.sk-item {position: relative;z-index: 1;}#sk-container-id-2 div.sk-parallel {display: flex;align-items: stretch;justify-content: center;background-color: white;position: relative;}#sk-container-id-2 div.sk-item::before, #sk-container-id-2 div.sk-parallel-item::before {content: \"\";position: absolute;border-left: 1px solid gray;box-sizing: border-box;top: 0;bottom: 0;left: 50%;z-index: -1;}#sk-container-id-2 div.sk-parallel-item {display: flex;flex-direction: column;z-index: 1;position: relative;background-color: white;}#sk-container-id-2 div.sk-parallel-item:first-child::after {align-self: flex-end;width: 50%;}#sk-container-id-2 div.sk-parallel-item:last-child::after {align-self: flex-start;width: 50%;}#sk-container-id-2 div.sk-parallel-item:only-child::after {width: 0;}#sk-container-id-2 div.sk-dashed-wrapped {border: 1px dashed gray;margin: 0 0.4em 0.5em 0.4em;box-sizing: border-box;padding-bottom: 0.4em;background-color: white;}#sk-container-id-2 div.sk-label label {font-family: monospace;font-weight: bold;display: inline-block;line-height: 1.2em;}#sk-container-id-2 div.sk-label-container {text-align: center;}#sk-container-id-2 div.sk-container {/* jupyter's `normalize.less` sets `[hidden] { display: none; }` but bootstrap.min.css set `[hidden] { display: none !important; }` so we also need the `!important` here to be able to override the default hidden behavior on the sphinx rendered scikit-learn.org. See: https://github.com/scikit-learn/scikit-learn/issues/21755 */display: inline-block !important;position: relative;}#sk-container-id-2 div.sk-text-repr-fallback {display: none;}</style><div id=\"sk-container-id-2\" class=\"sk-top-container\"><div class=\"sk-text-repr-fallback\"><pre>LogisticRegression(multi_class=&#x27;warn&#x27;, penalty=&#x27;none&#x27;, solver=&#x27;newton-cg&#x27;)</pre><b>In a Jupyter environment, please rerun this cell to show the HTML representation or trust the notebook. <br />On GitHub, the HTML representation is unable to render, please try loading this page with nbviewer.org.</b></div><div class=\"sk-container\" hidden><div class=\"sk-item\"><div class=\"sk-estimator sk-toggleable\"><input class=\"sk-toggleable__control sk-hidden--visually\" id=\"sk-estimator-id-2\" type=\"checkbox\" checked><label for=\"sk-estimator-id-2\" class=\"sk-toggleable__label sk-toggleable__label-arrow\">LogisticRegression</label><div class=\"sk-toggleable__content\"><pre>LogisticRegression(multi_class=&#x27;warn&#x27;, penalty=&#x27;none&#x27;, solver=&#x27;newton-cg&#x27;)</pre></div></div></div></div></div>"
            ]
          },
          "metadata": {},
          "execution_count": 15
        }
      ]
    },
    {
      "cell_type": "code",
      "source": [
        "print(model.coef_)"
      ],
      "metadata": {
        "colab": {
          "base_uri": "https://localhost:8080/"
        },
        "id": "esk9on0uN32n",
        "outputId": "958bb32f-32bd-43ef-aee5-758b7439601c"
      },
      "execution_count": null,
      "outputs": [
        {
          "output_type": "stream",
          "name": "stdout",
          "text": [
            "[[-0.03698527 -1.30979927 -2.5806253  -2.52278091]]\n"
          ]
        }
      ]
    },
    {
      "cell_type": "code",
      "source": [
        "#Prediction\n",
        "yhat = model.predict_proba(X)"
      ],
      "metadata": {
        "id": "UcqUDg6fOFdF"
      },
      "execution_count": null,
      "outputs": []
    },
    {
      "cell_type": "code",
      "source": [
        "yhat = yhat[:, 1]#garder uniquement pour la classe positive"
      ],
      "metadata": {
        "id": "aseYNQLIOJ1a"
      },
      "execution_count": null,
      "outputs": []
    },
    {
      "cell_type": "markdown",
      "source": [
        "#Metriques"
      ],
      "metadata": {
        "id": "GOLSr8L-OT4f"
      }
    },
    {
      "cell_type": "code",
      "source": [
        "confusion_matrix(y, model.predict(X)) #matrice de confusion"
      ],
      "metadata": {
        "colab": {
          "base_uri": "https://localhost:8080/"
        },
        "id": "pmzit78nOafm",
        "outputId": "f50e31d5-5919-4075-ae29-1bebd8136925"
      },
      "execution_count": null,
      "outputs": [
        {
          "output_type": "execute_result",
          "data": {
            "text/plain": [
              "array([[356,  68],\n",
              "       [ 83, 207]])"
            ]
          },
          "metadata": {},
          "execution_count": 19
        }
      ]
    },
    {
      "cell_type": "code",
      "source": [
        "pd.crosstab(y, model.predict(X))# faire la matrice de confusion avec pandas"
      ],
      "metadata": {
        "colab": {
          "base_uri": "https://localhost:8080/",
          "height": 143
        },
        "id": "89cFSRlJOfWX",
        "outputId": "65bbb1b6-ada6-4520-892f-ffc77aa30ef1"
      },
      "execution_count": null,
      "outputs": [
        {
          "output_type": "execute_result",
          "data": {
            "text/plain": [
              "col_0       0    1\n",
              "Survived          \n",
              "0         356   68\n",
              "1          83  207"
            ],
            "text/html": [
              "\n",
              "\n",
              "  <div id=\"df-42c19eee-e0af-4b07-8fda-42ddf81c51fa\">\n",
              "    <div class=\"colab-df-container\">\n",
              "      <div>\n",
              "<style scoped>\n",
              "    .dataframe tbody tr th:only-of-type {\n",
              "        vertical-align: middle;\n",
              "    }\n",
              "\n",
              "    .dataframe tbody tr th {\n",
              "        vertical-align: top;\n",
              "    }\n",
              "\n",
              "    .dataframe thead th {\n",
              "        text-align: right;\n",
              "    }\n",
              "</style>\n",
              "<table border=\"1\" class=\"dataframe\">\n",
              "  <thead>\n",
              "    <tr style=\"text-align: right;\">\n",
              "      <th>col_0</th>\n",
              "      <th>0</th>\n",
              "      <th>1</th>\n",
              "    </tr>\n",
              "    <tr>\n",
              "      <th>Survived</th>\n",
              "      <th></th>\n",
              "      <th></th>\n",
              "    </tr>\n",
              "  </thead>\n",
              "  <tbody>\n",
              "    <tr>\n",
              "      <th>0</th>\n",
              "      <td>356</td>\n",
              "      <td>68</td>\n",
              "    </tr>\n",
              "    <tr>\n",
              "      <th>1</th>\n",
              "      <td>83</td>\n",
              "      <td>207</td>\n",
              "    </tr>\n",
              "  </tbody>\n",
              "</table>\n",
              "</div>\n",
              "      <button class=\"colab-df-convert\" onclick=\"convertToInteractive('df-42c19eee-e0af-4b07-8fda-42ddf81c51fa')\"\n",
              "              title=\"Convert this dataframe to an interactive table.\"\n",
              "              style=\"display:none;\">\n",
              "\n",
              "  <svg xmlns=\"http://www.w3.org/2000/svg\" height=\"24px\"viewBox=\"0 0 24 24\"\n",
              "       width=\"24px\">\n",
              "    <path d=\"M0 0h24v24H0V0z\" fill=\"none\"/>\n",
              "    <path d=\"M18.56 5.44l.94 2.06.94-2.06 2.06-.94-2.06-.94-.94-2.06-.94 2.06-2.06.94zm-11 1L8.5 8.5l.94-2.06 2.06-.94-2.06-.94L8.5 2.5l-.94 2.06-2.06.94zm10 10l.94 2.06.94-2.06 2.06-.94-2.06-.94-.94-2.06-.94 2.06-2.06.94z\"/><path d=\"M17.41 7.96l-1.37-1.37c-.4-.4-.92-.59-1.43-.59-.52 0-1.04.2-1.43.59L10.3 9.45l-7.72 7.72c-.78.78-.78 2.05 0 2.83L4 21.41c.39.39.9.59 1.41.59.51 0 1.02-.2 1.41-.59l7.78-7.78 2.81-2.81c.8-.78.8-2.07 0-2.86zM5.41 20L4 18.59l7.72-7.72 1.47 1.35L5.41 20z\"/>\n",
              "  </svg>\n",
              "      </button>\n",
              "\n",
              "\n",
              "\n",
              "    <div id=\"df-58afddab-83ce-49a9-b4b0-1f4feb8ca3d1\">\n",
              "      <button class=\"colab-df-quickchart\" onclick=\"quickchart('df-58afddab-83ce-49a9-b4b0-1f4feb8ca3d1')\"\n",
              "              title=\"Suggest charts.\"\n",
              "              style=\"display:none;\">\n",
              "\n",
              "<svg xmlns=\"http://www.w3.org/2000/svg\" height=\"24px\"viewBox=\"0 0 24 24\"\n",
              "     width=\"24px\">\n",
              "    <g>\n",
              "        <path d=\"M19 3H5c-1.1 0-2 .9-2 2v14c0 1.1.9 2 2 2h14c1.1 0 2-.9 2-2V5c0-1.1-.9-2-2-2zM9 17H7v-7h2v7zm4 0h-2V7h2v10zm4 0h-2v-4h2v4z\"/>\n",
              "    </g>\n",
              "</svg>\n",
              "      </button>\n",
              "    </div>\n",
              "\n",
              "<style>\n",
              "  .colab-df-quickchart {\n",
              "    background-color: #E8F0FE;\n",
              "    border: none;\n",
              "    border-radius: 50%;\n",
              "    cursor: pointer;\n",
              "    display: none;\n",
              "    fill: #1967D2;\n",
              "    height: 32px;\n",
              "    padding: 0 0 0 0;\n",
              "    width: 32px;\n",
              "  }\n",
              "\n",
              "  .colab-df-quickchart:hover {\n",
              "    background-color: #E2EBFA;\n",
              "    box-shadow: 0px 1px 2px rgba(60, 64, 67, 0.3), 0px 1px 3px 1px rgba(60, 64, 67, 0.15);\n",
              "    fill: #174EA6;\n",
              "  }\n",
              "\n",
              "  [theme=dark] .colab-df-quickchart {\n",
              "    background-color: #3B4455;\n",
              "    fill: #D2E3FC;\n",
              "  }\n",
              "\n",
              "  [theme=dark] .colab-df-quickchart:hover {\n",
              "    background-color: #434B5C;\n",
              "    box-shadow: 0px 1px 3px 1px rgba(0, 0, 0, 0.15);\n",
              "    filter: drop-shadow(0px 1px 2px rgba(0, 0, 0, 0.3));\n",
              "    fill: #FFFFFF;\n",
              "  }\n",
              "</style>\n",
              "\n",
              "    <script>\n",
              "      async function quickchart(key) {\n",
              "        const containerElement = document.querySelector('#' + key);\n",
              "        const charts = await google.colab.kernel.invokeFunction(\n",
              "            'suggestCharts', [key], {});\n",
              "      }\n",
              "    </script>\n",
              "\n",
              "\n",
              "      <script>\n",
              "\n",
              "function displayQuickchartButton(domScope) {\n",
              "  let quickchartButtonEl =\n",
              "    domScope.querySelector('#df-58afddab-83ce-49a9-b4b0-1f4feb8ca3d1 button.colab-df-quickchart');\n",
              "  quickchartButtonEl.style.display =\n",
              "    google.colab.kernel.accessAllowed ? 'block' : 'none';\n",
              "}\n",
              "\n",
              "        displayQuickchartButton(document);\n",
              "      </script>\n",
              "      <style>\n",
              "    .colab-df-container {\n",
              "      display:flex;\n",
              "      flex-wrap:wrap;\n",
              "      gap: 12px;\n",
              "    }\n",
              "\n",
              "    .colab-df-convert {\n",
              "      background-color: #E8F0FE;\n",
              "      border: none;\n",
              "      border-radius: 50%;\n",
              "      cursor: pointer;\n",
              "      display: none;\n",
              "      fill: #1967D2;\n",
              "      height: 32px;\n",
              "      padding: 0 0 0 0;\n",
              "      width: 32px;\n",
              "    }\n",
              "\n",
              "    .colab-df-convert:hover {\n",
              "      background-color: #E2EBFA;\n",
              "      box-shadow: 0px 1px 2px rgba(60, 64, 67, 0.3), 0px 1px 3px 1px rgba(60, 64, 67, 0.15);\n",
              "      fill: #174EA6;\n",
              "    }\n",
              "\n",
              "    [theme=dark] .colab-df-convert {\n",
              "      background-color: #3B4455;\n",
              "      fill: #D2E3FC;\n",
              "    }\n",
              "\n",
              "    [theme=dark] .colab-df-convert:hover {\n",
              "      background-color: #434B5C;\n",
              "      box-shadow: 0px 1px 3px 1px rgba(0, 0, 0, 0.15);\n",
              "      filter: drop-shadow(0px 1px 2px rgba(0, 0, 0, 0.3));\n",
              "      fill: #FFFFFF;\n",
              "    }\n",
              "  </style>\n",
              "\n",
              "      <script>\n",
              "        const buttonEl =\n",
              "          document.querySelector('#df-42c19eee-e0af-4b07-8fda-42ddf81c51fa button.colab-df-convert');\n",
              "        buttonEl.style.display =\n",
              "          google.colab.kernel.accessAllowed ? 'block' : 'none';\n",
              "\n",
              "        async function convertToInteractive(key) {\n",
              "          const element = document.querySelector('#df-42c19eee-e0af-4b07-8fda-42ddf81c51fa');\n",
              "          const dataTable =\n",
              "            await google.colab.kernel.invokeFunction('convertToInteractive',\n",
              "                                                     [key], {});\n",
              "          if (!dataTable) return;\n",
              "\n",
              "          const docLinkHtml = 'Like what you see? Visit the ' +\n",
              "            '<a target=\"_blank\" href=https://colab.research.google.com/notebooks/data_table.ipynb>data table notebook</a>'\n",
              "            + ' to learn more about interactive tables.';\n",
              "          element.innerHTML = '';\n",
              "          dataTable['output_type'] = 'display_data';\n",
              "          await google.colab.output.renderOutput(dataTable, element);\n",
              "          const docLink = document.createElement('div');\n",
              "          docLink.innerHTML = docLinkHtml;\n",
              "          element.appendChild(docLink);\n",
              "        }\n",
              "      </script>\n",
              "    </div>\n",
              "  </div>\n"
            ]
          },
          "metadata": {},
          "execution_count": 20
        }
      ]
    },
    {
      "cell_type": "code",
      "source": [
        "#Accuracy\n",
        "ac = accuracy_score(y, model.predict(X))\n",
        "ac"
      ],
      "metadata": {
        "colab": {
          "base_uri": "https://localhost:8080/"
        },
        "id": "CMrQYAX6Or88",
        "outputId": "9900d847-46a2-43d1-f744-242e7a506879"
      },
      "execution_count": null,
      "outputs": [
        {
          "output_type": "execute_result",
          "data": {
            "text/plain": [
              "0.788515406162465"
            ]
          },
          "metadata": {},
          "execution_count": 21
        }
      ]
    },
    {
      "cell_type": "markdown",
      "source": [
        "L'accuracy n'est pas une très bonne mesure pour travailler avec des modèles de classement car elle peut nous faire croire qu'un modèle qui prédit correctement tous les zéros mais aucun n'est un très bon modèle. Regardons d'autres métriques alternatives plus intéressantes que l'accuracy."
      ],
      "metadata": {
        "id": "rbUNvb3KO5vQ"
      }
    },
    {
      "cell_type": "code",
      "source": [
        "print(classification_report(y, model.predict(X)))"
      ],
      "metadata": {
        "colab": {
          "base_uri": "https://localhost:8080/"
        },
        "id": "hFkXz937PClq",
        "outputId": "b83ee5b6-ba07-4647-f7a6-d95674af76ed"
      },
      "execution_count": null,
      "outputs": [
        {
          "output_type": "stream",
          "name": "stdout",
          "text": [
            "              precision    recall  f1-score   support\n",
            "\n",
            "           0       0.81      0.84      0.83       424\n",
            "           1       0.75      0.71      0.73       290\n",
            "\n",
            "    accuracy                           0.79       714\n",
            "   macro avg       0.78      0.78      0.78       714\n",
            "weighted avg       0.79      0.79      0.79       714\n",
            "\n"
          ]
        }
      ]
    },
    {
      "cell_type": "markdown",
      "source": [
        "Le rapport de classification SciKit-Learn nous fournit les trois mesures d'évaluation présentées dans la figure ci-dessus\n",
        "\n",
        "* Precision : C'est  la capacité du modèle à ne pas prédire une instance négative comme positive (ne pas commettre d'erreur de type 1). Pour toutes les instances classées\n",
        "\n",
        "* Recall : C'est la capacité du modèle à trouver toutes les instances positives. Pour toutes les instances qui sont réellement positives, quel est le pourcentage de réussite\n",
        "\n",
        "* F1 score : combine les deux ci-dessus en tant que moyenne harmonique entre eux. Il doit toujours être prioritaire de comparer les modèles de classement pour l'exactitude.\n",
        "\n",
        "Une excellente alternative est de faire la courbe ROC et de calculer l'AUC (aire sous la courbe).\n",
        "\n",
        "La courbe ROC (Receiver Operating Characteristic Curve) prend en compte le TPR (True Positive Rate or Recall or Sensitity) et le FPR (False Positive Rate or Specificity).\n",
        "\n",
        "La courbe ROC trace ces deux paramètres. l'AUC (Area Under the Curve) est une valeur qui synthétise les informations de la courbe ROC. Il va de 0,5 à 1. En bref, cette métrique nous indique dans quelle mesure le modèle est capable de distinguer les deux classes. Regardons la courbe AUC et RUC pour le modèle que nous avons estimé."
      ],
      "metadata": {
        "id": "-_psILZiPLo8"
      }
    },
    {
      "cell_type": "markdown",
      "source": [
        "Voici comment interpréter et analyser une courbe ROC :\n",
        "\n",
        "Axe des abscisses (X) : Il représente le taux de faux positifs (FPR), c'est-à-dire le pourcentage d'échantillons négatifs incorrectement classés comme positifs par le modèle. Cela se calcule comme FPR = FP / (FP + TN), où FP représente le nombre de faux positifs et TN le nombre de vrais négatifs.\n",
        "\n",
        "Axe des ordonnées (Y) : Il représente le taux de vrais positifs (TPR), également appelé sensibilité ou rappel. C'est le pourcentage d'échantillons positifs correctement classés comme positifs par le modèle. Cela se calcule comme TPR = TP / (TP + FN), où TP représente le nombre de vrais positifs et FN le nombre de faux négatifs.\n",
        "\n",
        "La courbe ROC est générée en calculant ces taux pour différents seuils de probabilité de classification du modèle et en traçant les points correspondants. Chaque point sur la courbe ROC représente un équilibre entre le taux de vrais positifs et le taux de faux positifs pour un certain seuil.\n",
        "\n",
        "Plus le modèle est performant, plus la courbe ROC sera proche du coin supérieur gauche du graphique. Une courbe idéale passerait par le coin supérieur gauche (100% de sensibilité et 0% de FPR), indiquant que le modèle peut distinguer parfaitement entre les classes positives et négatives.\n",
        "\n",
        "L'aire sous la courbe ROC (AUC-ROC) est également une mesure importante. Elle représente la surface sous la courbe ROC et mesure la capacité globale du modèle à classer correctement les échantillons. Plus l'AUC-ROC est élevée, meilleure est la performance du modèle. Une AUC-ROC de 0,5 indique une performance aléatoire, tandis qu'une AUC-ROC de 1 indique une performance parfaite.\n",
        "\n",
        "En résumé, la courbe ROC et l'AUC-ROC sont des outils importants pour évaluer la performance d'un modèle de classification binaire. Ils vous permettent de choisir le meilleur compromis entre sensibilité et spécificité en ajustant le seuil de classification, et de comparer différents modèles en fonction de leurs performances globales."
      ],
      "metadata": {
        "id": "bf7uA_b_1a1v"
      }
    },
    {
      "cell_type": "code",
      "source": [
        "print('AUC: %0.2f' % roc_auc_score(y, yhat))"
      ],
      "metadata": {
        "colab": {
          "base_uri": "https://localhost:8080/"
        },
        "id": "iHpNnBTSPv0O",
        "outputId": "b1599014-860c-4af5-bc90-9b8928b7623a"
      },
      "execution_count": null,
      "outputs": [
        {
          "output_type": "stream",
          "name": "stdout",
          "text": [
            "AUC: 0.85\n"
          ]
        }
      ]
    },
    {
      "cell_type": "code",
      "source": [
        "def plot_roc_curve(y_true, y_score, figsize=(10,6)):\n",
        "    fpr, tpr, _ = roc_curve(y_true, y_score)\n",
        "    plt.figure(figsize=figsize)\n",
        "    auc_value = roc_auc_score(y_true, y_score)\n",
        "    plt.plot(fpr, tpr, color='orange', label='ROC curve (area = %0.2f)' % auc_value)\n",
        "    plt.plot([0, 1], [0, 1], color='darkblue', linestyle='--')\n",
        "    plt.xlabel('False Positive Rate')\n",
        "    plt.ylabel('True Positive Rate')\n",
        "    plt.title('Receiver Operating Characteristic (ROC) Curve')\n",
        "    plt.legend()\n",
        "    plt.show()"
      ],
      "metadata": {
        "id": "x6XRy9tCQH-b"
      },
      "execution_count": null,
      "outputs": []
    },
    {
      "cell_type": "code",
      "source": [
        "plot_roc_curve(y, yhat)"
      ],
      "metadata": {
        "colab": {
          "base_uri": "https://localhost:8080/",
          "height": 564
        },
        "id": "obf3Y2DYQN26",
        "outputId": "82f64f57-6667-45d4-9157-bf7a753aff36"
      },
      "execution_count": null,
      "outputs": [
        {
          "output_type": "display_data",
          "data": {
            "text/plain": [
              "<Figure size 1000x600 with 1 Axes>"
            ],
            "image/png": "[encoded data removed]"
          },
          "metadata": {}
        }
      ]
    },
    {
      "cell_type": "markdown",
      "source": [
        "Nous pouvons considérer qu'une aire sous la courbe supérieure à 0,7 est acceptable. Plus de 0,8 semble bon. Plus de 0,9 c'est bien. Il existe également d'autres mesures que nous pouvons explorer.\n",
        "\n",
        "## Prediction\n"
      ],
      "metadata": {
        "id": "HjO3hOm3QVe5"
      }
    },
    {
      "cell_type": "code",
      "source": [
        "moi = pd.DataFrame({'Age':32, 'Pclass_2':0, 'Pclass_3':1, 'Sex_male':1}, index=[0])\n",
        "prob = model.predict_proba(moi)\n",
        "print('Jaurais {} % de probabilité de survie si jétais sur le Titanic'\\\n",
        "      .format(round(prob[:,1][0]*100, 2)))"
      ],
      "metadata": {
        "colab": {
          "base_uri": "https://localhost:8080/"
        },
        "id": "hNRjBh2GQY_-",
        "outputId": "14b498aa-d709-4f50-dfc7-83cef182ce6c"
      },
      "execution_count": null,
      "outputs": [
        {
          "output_type": "stream",
          "name": "stdout",
          "text": [
            "Jaurais 7.52 % de probabilité de survie si jétais sur le Titanic\n"
          ]
        }
      ]
    }
  ]
}